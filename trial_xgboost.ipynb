{
 "cells": [
  {
   "cell_type": "code",
   "execution_count": 1,
   "metadata": {
    "collapsed": true,
    "deletable": true,
    "editable": true
   },
   "outputs": [],
   "source": [
    "import pandas as pd\n",
    "import matplotlib.pyplot as plt\n",
    "%matplotlib inline\n",
    "import dask.dataframe as dd\n",
    "from toolbox.data_aggregation import *\n",
    "from toolbox.linear_reg import *\n",
    "import datetime\n",
    "from datetime import timedelta, date\n",
    "import numpy as np"
   ]
  },
  {
   "cell_type": "code",
   "execution_count": null,
   "metadata": {
    "collapsed": true,
    "deletable": true,
    "editable": true
   },
   "outputs": [],
   "source": []
  },
  {
   "cell_type": "code",
   "execution_count": 2,
   "metadata": {
    "collapsed": false,
    "deletable": true,
    "editable": true
   },
   "outputs": [],
   "source": [
    "df_train = pd.read_csv(\n",
    "    'data/train.csv', usecols=[1, 2, 3, 4, 5],\n",
    "    dtype={'onpromotion': bool},\n",
    "    converters={'unit_sales': lambda u: np.log1p(\n",
    "        float(u)) if float(u) > 0 else 0},\n",
    "    parse_dates=[\"date\"],\n",
    "    skiprows=range(1, 115688780)  # 2017-01-01 sharp = 101688780!\n",
    ")"
   ]
  },
  {
   "cell_type": "code",
   "execution_count": 3,
   "metadata": {
    "collapsed": false,
    "deletable": true,
    "editable": true
   },
   "outputs": [
    {
     "data": {
      "text/html": [
       "<div>\n",
       "<style>\n",
       "    .dataframe thead tr:only-child th {\n",
       "        text-align: right;\n",
       "    }\n",
       "\n",
       "    .dataframe thead th {\n",
       "        text-align: left;\n",
       "    }\n",
       "\n",
       "    .dataframe tbody tr th {\n",
       "        vertical-align: top;\n",
       "    }\n",
       "</style>\n",
       "<table border=\"1\" class=\"dataframe\">\n",
       "  <thead>\n",
       "    <tr style=\"text-align: right;\">\n",
       "      <th></th>\n",
       "      <th>date</th>\n",
       "      <th>store_nbr</th>\n",
       "      <th>item_nbr</th>\n",
       "      <th>unit_sales</th>\n",
       "      <th>onpromotion</th>\n",
       "    </tr>\n",
       "  </thead>\n",
       "  <tbody>\n",
       "    <tr>\n",
       "      <th>0</th>\n",
       "      <td>2017-05-15</td>\n",
       "      <td>6</td>\n",
       "      <td>1963363</td>\n",
       "      <td>1.098612</td>\n",
       "      <td>False</td>\n",
       "    </tr>\n",
       "    <tr>\n",
       "      <th>1</th>\n",
       "      <td>2017-05-15</td>\n",
       "      <td>6</td>\n",
       "      <td>1963540</td>\n",
       "      <td>0.693147</td>\n",
       "      <td>False</td>\n",
       "    </tr>\n",
       "    <tr>\n",
       "      <th>2</th>\n",
       "      <td>2017-05-15</td>\n",
       "      <td>6</td>\n",
       "      <td>1963561</td>\n",
       "      <td>0.693147</td>\n",
       "      <td>False</td>\n",
       "    </tr>\n",
       "    <tr>\n",
       "      <th>3</th>\n",
       "      <td>2017-05-15</td>\n",
       "      <td>6</td>\n",
       "      <td>1963606</td>\n",
       "      <td>2.639057</td>\n",
       "      <td>False</td>\n",
       "    </tr>\n",
       "    <tr>\n",
       "      <th>4</th>\n",
       "      <td>2017-05-15</td>\n",
       "      <td>6</td>\n",
       "      <td>1963740</td>\n",
       "      <td>1.098612</td>\n",
       "      <td>False</td>\n",
       "    </tr>\n",
       "  </tbody>\n",
       "</table>\n",
       "</div>"
      ],
      "text/plain": [
       "        date  store_nbr  item_nbr  unit_sales  onpromotion\n",
       "0 2017-05-15          6   1963363    1.098612        False\n",
       "1 2017-05-15          6   1963540    0.693147        False\n",
       "2 2017-05-15          6   1963561    0.693147        False\n",
       "3 2017-05-15          6   1963606    2.639057        False\n",
       "4 2017-05-15          6   1963740    1.098612        False"
      ]
     },
     "execution_count": 3,
     "metadata": {},
     "output_type": "execute_result"
    }
   ],
   "source": [
    "df_train.head() #2017-05-15"
   ]
  },
  {
   "cell_type": "code",
   "execution_count": 4,
   "metadata": {
    "collapsed": false,
    "deletable": true,
    "editable": true
   },
   "outputs": [],
   "source": [
    "items = pd.read_csv(\n",
    "    \"data/items.csv\",\n",
    ").set_index(\"item_nbr\")"
   ]
  },
  {
   "cell_type": "code",
   "execution_count": 5,
   "metadata": {
    "collapsed": false,
    "deletable": true,
    "editable": true
   },
   "outputs": [],
   "source": [
    "promo_train = df_train.set_index(\n",
    "    [\"store_nbr\", \"item_nbr\", \"date\"])[[\"onpromotion\"]].unstack(\n",
    "        level=-1).fillna(False)"
   ]
  },
  {
   "cell_type": "code",
   "execution_count": 6,
   "metadata": {
    "collapsed": true,
    "deletable": true,
    "editable": true
   },
   "outputs": [],
   "source": [
    "promo_train.columns = promo_train.columns.get_level_values(1)"
   ]
  },
  {
   "cell_type": "code",
   "execution_count": 7,
   "metadata": {
    "collapsed": false,
    "deletable": true,
    "editable": true
   },
   "outputs": [],
   "source": [
    "df_train = df_train.set_index(\n",
    "    [\"store_nbr\", \"item_nbr\", \"date\"])[[\"unit_sales\"]].unstack(\n",
    "        level=-1).fillna(0)\n",
    "df_train.columns = df_train.columns.get_level_values(1)"
   ]
  },
  {
   "cell_type": "code",
   "execution_count": 8,
   "metadata": {
    "collapsed": true,
    "deletable": true,
    "editable": true
   },
   "outputs": [],
   "source": [
    "items = pd.read_csv(\n",
    "    \"data/items.csv\",\n",
    ").set_index(\"item_nbr\")"
   ]
  },
  {
   "cell_type": "code",
   "execution_count": 9,
   "metadata": {
    "collapsed": true,
    "deletable": true,
    "editable": true
   },
   "outputs": [],
   "source": [
    "items = items.reindex(df_train.index.get_level_values(1))"
   ]
  },
  {
   "cell_type": "code",
   "execution_count": 10,
   "metadata": {
    "collapsed": false,
    "deletable": true,
    "editable": true
   },
   "outputs": [],
   "source": [
    "def get_timespan(df, dt, minus, periods):\n",
    "    return df[\n",
    "        pd.date_range(dt - timedelta(days=minus), periods=periods)\n",
    "    ]"
   ]
  },
  {
   "cell_type": "code",
   "execution_count": 11,
   "metadata": {
    "collapsed": true,
    "deletable": true,
    "editable": true
   },
   "outputs": [],
   "source": [
    "def prepare_sample(df_raw, promo_raw, sample_dt, is_train=True):\n",
    "    X = pd.DataFrame({\n",
    "        \"mean_3\": get_timespan(df_raw, sample_dt, 3, 3).mean(axis=1).values,\n",
    "        \"mean_7\": get_timespan(df_raw, sample_dt, 7, 7).mean(axis=1).values,\n",
    "        \"mean_14\": get_timespan(df_raw, sample_dt, 14, 14).mean(axis=1).values,\n",
    "        \"promo_14_sum\": get_timespan(promo_raw, sample_dt, 14, 14).sum(axis=1).values\n",
    "    })\n",
    "    for i in range(16):\n",
    "        X[\"promo_{}\".format(i)] = promo_raw[\n",
    "            sample_dt + timedelta(days=i)].values.astype(np.uint8)\n",
    "    if is_train:\n",
    "        y = df_raw[\n",
    "            pd.date_range(sample_dt, periods=16)\n",
    "        ].values\n",
    "        return X, y\n",
    "    return X"
   ]
  },
  {
   "cell_type": "code",
   "execution_count": 12,
   "metadata": {
    "collapsed": false,
    "deletable": true,
    "editable": true
   },
   "outputs": [
    {
     "data": {
      "text/plain": [
       "datetime.timedelta(60)"
      ]
     },
     "execution_count": 12,
     "metadata": {},
     "output_type": "execute_result"
    }
   ],
   "source": [
    "date(2017, 7, 31) - date(2017, 6, 1)"
   ]
  },
  {
   "cell_type": "markdown",
   "metadata": {
    "deletable": true,
    "editable": true
   },
   "source": [
    "# Generate samples from certain days\n",
    "Each day with different combination of store and item"
   ]
  },
  {
   "cell_type": "code",
   "execution_count": 13,
   "metadata": {
    "collapsed": true,
    "deletable": true,
    "editable": true
   },
   "outputs": [],
   "source": [
    "some_date = date(2017, 6, 1)\n",
    "X_l, y_l = [], []\n",
    "for i in range(10):\n",
    "    delta = timedelta(days=i*6)\n",
    "    X_tmp, y_tmp = prepare_sample(\n",
    "        df_train, promo_train, some_date + delta\n",
    "    )\n",
    "    X_l.append(X_tmp)\n",
    "    y_l.append(y_tmp)\n",
    "X_train = pd.concat(X_l, axis=0)\n",
    "y_train = np.concatenate(y_l, axis=0)\n",
    "del X_l, y_l"
   ]
  },
  {
   "cell_type": "code",
   "execution_count": 14,
   "metadata": {
    "collapsed": false,
    "deletable": true,
    "editable": true
   },
   "outputs": [
    {
     "name": "stdout",
     "output_type": "stream",
     "text": [
      "<class 'pandas.core.frame.DataFrame'>\n",
      "Int64Index: 1584100 entries, 0 to 158409\n",
      "Data columns (total 20 columns):\n",
      "mean_14         1584100 non-null float64\n",
      "mean_3          1584100 non-null float64\n",
      "mean_7          1584100 non-null float64\n",
      "promo_14_sum    1584100 non-null int64\n",
      "promo_0         1584100 non-null uint8\n",
      "promo_1         1584100 non-null uint8\n",
      "promo_2         1584100 non-null uint8\n",
      "promo_3         1584100 non-null uint8\n",
      "promo_4         1584100 non-null uint8\n",
      "promo_5         1584100 non-null uint8\n",
      "promo_6         1584100 non-null uint8\n",
      "promo_7         1584100 non-null uint8\n",
      "promo_8         1584100 non-null uint8\n",
      "promo_9         1584100 non-null uint8\n",
      "promo_10        1584100 non-null uint8\n",
      "promo_11        1584100 non-null uint8\n",
      "promo_12        1584100 non-null uint8\n",
      "promo_13        1584100 non-null uint8\n",
      "promo_14        1584100 non-null uint8\n",
      "promo_15        1584100 non-null uint8\n",
      "dtypes: float64(3), int64(1), uint8(16)\n",
      "memory usage: 84.6 MB\n"
     ]
    }
   ],
   "source": [
    "X_train.info()"
   ]
  },
  {
   "cell_type": "markdown",
   "metadata": {
    "deletable": true,
    "editable": true
   },
   "source": [
    "# Shuffle and split\n",
    "date, store, item are all randomized"
   ]
  },
  {
   "cell_type": "code",
   "execution_count": 15,
   "metadata": {
    "collapsed": true,
    "deletable": true,
    "editable": true
   },
   "outputs": [],
   "source": [
    "from sklearn.model_selection import train_test_split\n",
    "X_train_s, X_test_s, y_train_s, y_test_s = train_test_split(X_train, y_train, test_size=0.2, random_state=42)"
   ]
  },
  {
   "cell_type": "code",
   "execution_count": 16,
   "metadata": {
    "collapsed": false,
    "deletable": true,
    "editable": true
   },
   "outputs": [],
   "source": [
    "from sklearn.linear_model import SGDRegressor\n",
    "from sklearn.multioutput import MultiOutputRegressor\n",
    "from sklearn.model_selection import learning_curve\n",
    "# multi_sgd_reg = MultiOutputRegressor(SGDRegressor(), n_jobs=-1)\n",
    "# train_sizes, train_scores, valid_scores = learning_curve(\n",
    "#     multi_sgd_reg, X_train_s, y_train_s, scoring='neg_mean_squared_error', cv=5\n",
    "# )\n",
    "# train_scores = np.sqrt(-train_scores)\n",
    "# valid_scores = np.sqrt(-valid_scores)"
   ]
  },
  {
   "cell_type": "code",
   "execution_count": 17,
   "metadata": {
    "collapsed": false,
    "deletable": true,
    "editable": true
   },
   "outputs": [],
   "source": [
    "# plt.plot(train_sizes, train_scores, 'b-')\n",
    "# plt.plot(train_sizes, valid_scores, 'r-')\n",
    "# plt.ylim([0, 1])\n",
    "# plt.title(\"Learning curve for Linear Regression (SGD)\")\n",
    "# plt.xlabel(\"# of Examples\")\n",
    "# plt.ylabel(\"RMSE\")"
   ]
  },
  {
   "cell_type": "markdown",
   "metadata": {
    "deletable": true,
    "editable": true
   },
   "source": [
    "# Selection a very small portion for development"
   ]
  },
  {
   "cell_type": "code",
   "execution_count": 18,
   "metadata": {
    "collapsed": false,
    "deletable": true,
    "editable": true
   },
   "outputs": [],
   "source": [
    "DEV_SCALE = 0.01\n",
    "m = int(X_train_s.shape[0] * DEV_SCALE)"
   ]
  },
  {
   "cell_type": "code",
   "execution_count": 19,
   "metadata": {
    "collapsed": true,
    "deletable": true,
    "editable": true
   },
   "outputs": [],
   "source": [
    "from xgboost import XGBRegressor\n",
    "# xgb_reg = XGBRegressor()\n",
    "# X_dev = X_train_s[:m]\n",
    "# y_dev = y_train_s[:m]"
   ]
  },
  {
   "cell_type": "code",
   "execution_count": 20,
   "metadata": {
    "collapsed": false,
    "deletable": true,
    "editable": true
   },
   "outputs": [],
   "source": [
    "# result = []\n",
    "# for col in range(16):\n",
    "#     xgb_reg.fit(X_dev, y_dev[:, col])\n",
    "#     y_pred = xgb_reg.predict(X_dev)\n",
    "\n",
    "#     mse = mean_squared_error(y_dev[:, col], y_pred)\n",
    "#     result.append(np.sqrt(mse))\n",
    "# print(result)"
   ]
  },
  {
   "cell_type": "code",
   "execution_count": 21,
   "metadata": {
    "collapsed": true,
    "deletable": true,
    "editable": true
   },
   "outputs": [],
   "source": [
    "m_list = np.linspace(100, m, 10)"
   ]
  },
  {
   "cell_type": "markdown",
   "metadata": {
    "deletable": true,
    "editable": true
   },
   "source": [
    "# Learning curve for XGB"
   ]
  },
  {
   "cell_type": "code",
   "execution_count": 22,
   "metadata": {
    "collapsed": false,
    "deletable": true,
    "editable": true
   },
   "outputs": [],
   "source": [
    "from sklearn.metrics import mean_squared_error\n",
    "results = np.zeros([10, 16])\n",
    "results_t = np.zeros([10, 16])\n",
    "xgb_reg = XGBRegressor()\n",
    "for i in range(10):\n",
    "    m_temp = m_list[i]\n",
    "    X_temp = X_train_s[:int(m_temp)]\n",
    "    y_temp = y_train_s[:int(m_temp)]\n",
    "    result = []\n",
    "    result_t = []\n",
    "    for col in range(16):\n",
    "        xgb_reg.fit(X_temp, y_temp[:, col])\n",
    "        y_pred = xgb_reg.predict(X_train_s[-1000:])\n",
    "        y_pred_t = xgb_reg.predict(X_temp)\n",
    "        mse = mean_squared_error(y_train_s[-1000:, col], y_pred)\n",
    "        mse_t = mean_squared_error(y_temp[:, col], y_pred_t)\n",
    "        result.append(np.sqrt(mse))\n",
    "        result_t.append(np.sqrt(mse_t))\n",
    "        \n",
    "    results[i, :] = result\n",
    "    results_t[i, :] = result_t"
   ]
  },
  {
   "cell_type": "code",
   "execution_count": 23,
   "metadata": {
    "collapsed": false,
    "deletable": true,
    "editable": true
   },
   "outputs": [
    {
     "data": {
      "image/png": "[encoded data removed]",
      "text/plain": [
       "<matplotlib.figure.Figure at 0x1485ebcebe0>"
      ]
     },
     "metadata": {},
     "output_type": "display_data"
    }
   ],
   "source": [
    "from matplotlib import cm\n",
    "for i in range(16):\n",
    "    plt.plot(m_list, results[:, i], '-', color=cm.cool(i/15), alpha=0.8)\n",
    "    plt.plot(m_list, results_t[:, i], '--', color=cm.cool(i/15), alpha=0.8)"
   ]
  },
  {
   "cell_type": "code",
   "execution_count": 24,
   "metadata": {
    "collapsed": true,
    "deletable": true,
    "editable": true
   },
   "outputs": [],
   "source": [
    "def prepare_sample_2(df_raw, promo_raw, sample_dt, is_train=True):\n",
    "    X = pd.DataFrame({\n",
    "        \"mean_3\": get_timespan(df_raw, sample_dt, 3, 3).mean(axis=1).values,\n",
    "        \"mean_7\": get_timespan(df_raw, sample_dt, 7, 7).mean(axis=1).values,\n",
    "        \"mean_14\": get_timespan(df_raw, sample_dt, 14, 14).mean(axis=1).values,\n",
    "        \"promo_14_sum\": get_timespan(promo_raw, sample_dt, 14, 14).sum(axis=1).values,\n",
    "        \"perishable\": items['perishable'].values,\n",
    "    })\n",
    "    for i in range(16):\n",
    "        X[\"promo_{}\".format(i)] = promo_raw[\n",
    "            sample_dt + timedelta(days=i)].values.astype(np.uint8)\n",
    "    if is_train:\n",
    "        y = df_raw[\n",
    "            pd.date_range(sample_dt, periods=16)\n",
    "        ].values\n",
    "        y = np.multiply(y, 1 + 0.118 * items['perishable'].values.reshape([-1, 1]))\n",
    "        return X, y\n",
    "    return X"
   ]
  },
  {
   "cell_type": "code",
   "execution_count": 25,
   "metadata": {
    "collapsed": false,
    "deletable": true,
    "editable": true
   },
   "outputs": [],
   "source": [
    "temp_X2, temp_y2 = prepare_sample_2(df_train, promo_train, some_date)"
   ]
  },
  {
   "cell_type": "markdown",
   "metadata": {
    "deletable": true,
    "editable": true
   },
   "source": [
    "# Target modification to fit official evaluation"
   ]
  },
  {
   "cell_type": "code",
   "execution_count": 26,
   "metadata": {
    "collapsed": true,
    "deletable": true,
    "editable": true
   },
   "outputs": [],
   "source": [
    "some_date = date(2017, 6, 1)\n",
    "X_l, y_l = [], []\n",
    "for i in range(10):\n",
    "    delta = timedelta(days=i*6)\n",
    "    X_tmp, y_tmp = prepare_sample_2(\n",
    "        df_train, promo_train, some_date + delta\n",
    "    )\n",
    "    X_l.append(X_tmp)\n",
    "    y_l.append(y_tmp)\n",
    "X_train = pd.concat(X_l, axis=0)\n",
    "y_train = np.concatenate(y_l, axis=0)\n",
    "del X_l, y_l"
   ]
  },
  {
   "cell_type": "code",
   "execution_count": 27,
   "metadata": {
    "collapsed": true,
    "deletable": true,
    "editable": true
   },
   "outputs": [],
   "source": [
    "X_train_s, X_test_s, y_train_s, y_test_s = train_test_split(X_train, y_train, test_size=0.2, random_state=42)"
   ]
  },
  {
   "cell_type": "code",
   "execution_count": 28,
   "metadata": {
    "collapsed": false,
    "deletable": true,
    "editable": true
   },
   "outputs": [],
   "source": [
    "from sklearn.metrics import mean_squared_error\n",
    "results = np.zeros([10, 16])\n",
    "results_t = np.zeros([10, 16])\n",
    "xgb_reg = XGBRegressor()\n",
    "for i in range(10):\n",
    "    m_temp = m_list[i]\n",
    "    X_temp = X_train_s[:int(m_temp)]\n",
    "    y_temp = y_train_s[:int(m_temp)]\n",
    "    result = []\n",
    "    result_t = []\n",
    "    for col in range(16):\n",
    "        xgb_reg.fit(X_temp, y_temp[:, col])\n",
    "        y_pred = xgb_reg.predict(X_test_s)\n",
    "        y_pred_t = xgb_reg.predict(X_temp)\n",
    "        mse = mean_squared_error(y_test_s[:, col], y_pred)\n",
    "        mse_t = mean_squared_error(y_temp[:, col], y_pred_t)\n",
    "        result.append(np.sqrt(mse))\n",
    "        result_t.append(np.sqrt(mse_t))\n",
    "        \n",
    "    results[i, :] = result\n",
    "    results_t[i, :] = result_t"
   ]
  },
  {
   "cell_type": "code",
   "execution_count": 29,
   "metadata": {
    "collapsed": false,
    "deletable": true,
    "editable": true
   },
   "outputs": [
    {
     "data": {
      "image/png": "[encoded data removed]",
      "text/plain": [
       "<matplotlib.figure.Figure at 0x1480209a9b0>"
      ]
     },
     "metadata": {},
     "output_type": "display_data"
    }
   ],
   "source": [
    "for i in range(16):\n",
    "    plt.plot(m_list, results[:, i], '-', color=cm.cool(i/15), alpha=0.8)\n",
    "    plt.plot(m_list, results_t[:, i], '--', color=cm.cool(i/15), alpha=0.8)"
   ]
  },
  {
   "cell_type": "code",
   "execution_count": 30,
   "metadata": {
    "collapsed": false,
    "deletable": true,
    "editable": true
   },
   "outputs": [
    {
     "data": {
      "image/png": "[encoded data removed]",
      "text/plain": [
       "<matplotlib.figure.Figure at 0x148021b8cc0>"
      ]
     },
     "metadata": {},
     "output_type": "display_data"
    }
   ],
   "source": [
    "for i in range(0, 16, 4):\n",
    "    plt.plot(m_list, results[:, i], '-', color=cm.cool(i/15), alpha=0.8)\n",
    "    plt.plot(m_list, results_t[:, i], '--', color=cm.cool(i/15), alpha=0.8)"
   ]
  },
  {
   "cell_type": "code",
   "execution_count": null,
   "metadata": {
    "collapsed": true,
    "deletable": true,
    "editable": true
   },
   "outputs": [],
   "source": []
  }
 ],
 "metadata": {
  "kernelspec": {
   "display_name": "Python 3",
   "language": "python",
   "name": "python3"
  },
  "language_info": {
   "codemirror_mode": {
    "name": "ipython",
    "version": 3
   },
   "file_extension": ".py",
   "mimetype": "text/x-python",
   "name": "python",
   "nbconvert_exporter": "python",
   "pygments_lexer": "ipython3",
   "version": "3.5.2"
  }
 },
 "nbformat": 4,
 "nbformat_minor": 2
}
