{
 "cells": [
  {
   "cell_type": "code",
   "execution_count": 1,
   "metadata": {
    "collapsed": true,
    "deletable": true,
    "editable": true
   },
   "outputs": [],
   "source": [
    "import pandas as pd\n",
    "import matplotlib.pyplot as plt\n",
    "%matplotlib inline\n",
    "import dask.dataframe as dd\n",
    "from toolbox.data_aggregation import *\n",
    "from toolbox.linear_reg import *\n",
    "import datetime\n",
    "from datetime import timedelta, date\n",
    "import numpy as np"
   ]
  },
  {
   "cell_type": "markdown",
   "metadata": {
    "deletable": true,
    "editable": true
   },
   "source": [
    "# Data Preprocessing\n",
    "\n",
    "## Train data\n",
    "### Unit sales and promotion by store and date"
   ]
  },
  {
   "cell_type": "code",
   "execution_count": 2,
   "metadata": {
    "collapsed": false,
    "deletable": true,
    "editable": true
   },
   "outputs": [],
   "source": [
    "df_train = pd.read_csv(\n",
    "    'data/train.csv', usecols=[1, 2, 3, 4, 5],\n",
    "    dtype={'onpromotion': bool},\n",
    "    converters={'unit_sales': lambda u: np.log1p(\n",
    "        float(u)) if float(u) > 0 else 0},\n",
    "    parse_dates=[\"date\"],\n",
    "    # comment the following line for full dataset processing\n",
    "    skiprows=range(1, 115688780)  # 2017-01-01 sharp = 101688780! (115688780 for test)\n",
    ")\n",
    "\n",
    "df_test = pd.read_csv(\n",
    "    \"data/test.csv\", usecols=[0, 1, 2, 3, 4],\n",
    "    dtype={'onpromotion': bool},\n",
    "    parse_dates=[\"date\"]  # , date_parser=parser\n",
    ").set_index(\n",
    "    ['store_nbr', 'item_nbr', 'date']\n",
    ")"
   ]
  },
  {
   "cell_type": "code",
   "execution_count": 3,
   "metadata": {
    "collapsed": true,
    "deletable": true,
    "editable": true
   },
   "outputs": [],
   "source": [
    "df_unit_sales = df_train.set_index(\n",
    "    [\"store_nbr\", \"item_nbr\", \"date\"])[[\"unit_sales\"]].unstack(\n",
    "        level=-1).fillna(0)\n",
    "df_unit_sales.columns = df_unit_sales.columns.get_level_values(1)"
   ]
  },
  {
   "cell_type": "code",
   "execution_count": 4,
   "metadata": {
    "collapsed": false,
    "deletable": true,
    "editable": true
   },
   "outputs": [
    {
     "data": {
      "text/html": [
       "<div>\n",
       "<style>\n",
       "    .dataframe thead tr:only-child th {\n",
       "        text-align: right;\n",
       "    }\n",
       "\n",
       "    .dataframe thead th {\n",
       "        text-align: left;\n",
       "    }\n",
       "\n",
       "    .dataframe tbody tr th {\n",
       "        vertical-align: top;\n",
       "    }\n",
       "</style>\n",
       "<table border=\"1\" class=\"dataframe\">\n",
       "  <thead>\n",
       "    <tr style=\"text-align: right;\">\n",
       "      <th></th>\n",
       "      <th>date</th>\n",
       "      <th>2017-05-15 00:00:00</th>\n",
       "      <th>2017-05-16 00:00:00</th>\n",
       "      <th>2017-05-17 00:00:00</th>\n",
       "      <th>2017-05-18 00:00:00</th>\n",
       "      <th>2017-05-19 00:00:00</th>\n",
       "      <th>2017-05-20 00:00:00</th>\n",
       "      <th>2017-05-21 00:00:00</th>\n",
       "      <th>2017-05-22 00:00:00</th>\n",
       "      <th>2017-05-23 00:00:00</th>\n",
       "      <th>2017-05-24 00:00:00</th>\n",
       "      <th>...</th>\n",
       "      <th>2017-08-06 00:00:00</th>\n",
       "      <th>2017-08-07 00:00:00</th>\n",
       "      <th>2017-08-08 00:00:00</th>\n",
       "      <th>2017-08-09 00:00:00</th>\n",
       "      <th>2017-08-10 00:00:00</th>\n",
       "      <th>2017-08-11 00:00:00</th>\n",
       "      <th>2017-08-12 00:00:00</th>\n",
       "      <th>2017-08-13 00:00:00</th>\n",
       "      <th>2017-08-14 00:00:00</th>\n",
       "      <th>2017-08-15 00:00:00</th>\n",
       "    </tr>\n",
       "    <tr>\n",
       "      <th>store_nbr</th>\n",
       "      <th>item_nbr</th>\n",
       "      <th></th>\n",
       "      <th></th>\n",
       "      <th></th>\n",
       "      <th></th>\n",
       "      <th></th>\n",
       "      <th></th>\n",
       "      <th></th>\n",
       "      <th></th>\n",
       "      <th></th>\n",
       "      <th></th>\n",
       "      <th></th>\n",
       "      <th></th>\n",
       "      <th></th>\n",
       "      <th></th>\n",
       "      <th></th>\n",
       "      <th></th>\n",
       "      <th></th>\n",
       "      <th></th>\n",
       "      <th></th>\n",
       "      <th></th>\n",
       "      <th></th>\n",
       "    </tr>\n",
       "  </thead>\n",
       "  <tbody>\n",
       "    <tr>\n",
       "      <th rowspan=\"5\" valign=\"top\">1</th>\n",
       "      <th>96995</th>\n",
       "      <td>0.0</td>\n",
       "      <td>0.000000</td>\n",
       "      <td>0.000000</td>\n",
       "      <td>0.000000</td>\n",
       "      <td>0.000000</td>\n",
       "      <td>0.000000</td>\n",
       "      <td>0.0</td>\n",
       "      <td>0.000000</td>\n",
       "      <td>0.000000</td>\n",
       "      <td>0.000000</td>\n",
       "      <td>...</td>\n",
       "      <td>1.098612</td>\n",
       "      <td>1.098612</td>\n",
       "      <td>0.000000</td>\n",
       "      <td>0.000000</td>\n",
       "      <td>0.693147</td>\n",
       "      <td>0.000000</td>\n",
       "      <td>0.000000</td>\n",
       "      <td>0.000000</td>\n",
       "      <td>0.000000</td>\n",
       "      <td>0.000000</td>\n",
       "    </tr>\n",
       "    <tr>\n",
       "      <th>99197</th>\n",
       "      <td>0.0</td>\n",
       "      <td>1.098612</td>\n",
       "      <td>1.098612</td>\n",
       "      <td>0.693147</td>\n",
       "      <td>1.098612</td>\n",
       "      <td>0.000000</td>\n",
       "      <td>0.0</td>\n",
       "      <td>0.000000</td>\n",
       "      <td>0.000000</td>\n",
       "      <td>1.098612</td>\n",
       "      <td>...</td>\n",
       "      <td>0.000000</td>\n",
       "      <td>1.098612</td>\n",
       "      <td>0.000000</td>\n",
       "      <td>1.098612</td>\n",
       "      <td>0.000000</td>\n",
       "      <td>0.000000</td>\n",
       "      <td>0.000000</td>\n",
       "      <td>0.000000</td>\n",
       "      <td>0.000000</td>\n",
       "      <td>0.000000</td>\n",
       "    </tr>\n",
       "    <tr>\n",
       "      <th>103520</th>\n",
       "      <td>0.0</td>\n",
       "      <td>1.609438</td>\n",
       "      <td>0.693147</td>\n",
       "      <td>0.000000</td>\n",
       "      <td>0.000000</td>\n",
       "      <td>1.098612</td>\n",
       "      <td>0.0</td>\n",
       "      <td>0.693147</td>\n",
       "      <td>1.098612</td>\n",
       "      <td>1.609438</td>\n",
       "      <td>...</td>\n",
       "      <td>0.000000</td>\n",
       "      <td>0.000000</td>\n",
       "      <td>1.386294</td>\n",
       "      <td>0.000000</td>\n",
       "      <td>1.386294</td>\n",
       "      <td>0.693147</td>\n",
       "      <td>0.693147</td>\n",
       "      <td>0.693147</td>\n",
       "      <td>0.000000</td>\n",
       "      <td>0.000000</td>\n",
       "    </tr>\n",
       "    <tr>\n",
       "      <th>103665</th>\n",
       "      <td>0.0</td>\n",
       "      <td>1.791759</td>\n",
       "      <td>0.000000</td>\n",
       "      <td>0.693147</td>\n",
       "      <td>2.197225</td>\n",
       "      <td>1.386294</td>\n",
       "      <td>0.0</td>\n",
       "      <td>1.098612</td>\n",
       "      <td>1.791759</td>\n",
       "      <td>0.000000</td>\n",
       "      <td>...</td>\n",
       "      <td>0.693147</td>\n",
       "      <td>1.098612</td>\n",
       "      <td>0.000000</td>\n",
       "      <td>2.079442</td>\n",
       "      <td>2.302585</td>\n",
       "      <td>1.098612</td>\n",
       "      <td>0.000000</td>\n",
       "      <td>0.000000</td>\n",
       "      <td>0.693147</td>\n",
       "      <td>0.693147</td>\n",
       "    </tr>\n",
       "    <tr>\n",
       "      <th>105574</th>\n",
       "      <td>0.0</td>\n",
       "      <td>2.197225</td>\n",
       "      <td>2.302585</td>\n",
       "      <td>2.302585</td>\n",
       "      <td>1.945910</td>\n",
       "      <td>0.693147</td>\n",
       "      <td>0.0</td>\n",
       "      <td>1.945910</td>\n",
       "      <td>2.772589</td>\n",
       "      <td>1.791759</td>\n",
       "      <td>...</td>\n",
       "      <td>0.000000</td>\n",
       "      <td>1.791759</td>\n",
       "      <td>2.079442</td>\n",
       "      <td>1.945910</td>\n",
       "      <td>2.397895</td>\n",
       "      <td>1.791759</td>\n",
       "      <td>1.791759</td>\n",
       "      <td>0.000000</td>\n",
       "      <td>1.386294</td>\n",
       "      <td>1.609438</td>\n",
       "    </tr>\n",
       "  </tbody>\n",
       "</table>\n",
       "<p>5 rows × 93 columns</p>\n",
       "</div>"
      ],
      "text/plain": [
       "date                2017-05-15  2017-05-16  2017-05-17  2017-05-18  \\\n",
       "store_nbr item_nbr                                                   \n",
       "1         96995            0.0    0.000000    0.000000    0.000000   \n",
       "          99197            0.0    1.098612    1.098612    0.693147   \n",
       "          103520           0.0    1.609438    0.693147    0.000000   \n",
       "          103665           0.0    1.791759    0.000000    0.693147   \n",
       "          105574           0.0    2.197225    2.302585    2.302585   \n",
       "\n",
       "date                2017-05-19  2017-05-20  2017-05-21  2017-05-22  \\\n",
       "store_nbr item_nbr                                                   \n",
       "1         96995       0.000000    0.000000         0.0    0.000000   \n",
       "          99197       1.098612    0.000000         0.0    0.000000   \n",
       "          103520      0.000000    1.098612         0.0    0.693147   \n",
       "          103665      2.197225    1.386294         0.0    1.098612   \n",
       "          105574      1.945910    0.693147         0.0    1.945910   \n",
       "\n",
       "date                2017-05-23  2017-05-24     ...      2017-08-06  \\\n",
       "store_nbr item_nbr                             ...                   \n",
       "1         96995       0.000000    0.000000     ...        1.098612   \n",
       "          99197       0.000000    1.098612     ...        0.000000   \n",
       "          103520      1.098612    1.609438     ...        0.000000   \n",
       "          103665      1.791759    0.000000     ...        0.693147   \n",
       "          105574      2.772589    1.791759     ...        0.000000   \n",
       "\n",
       "date                2017-08-07  2017-08-08  2017-08-09  2017-08-10  \\\n",
       "store_nbr item_nbr                                                   \n",
       "1         96995       1.098612    0.000000    0.000000    0.693147   \n",
       "          99197       1.098612    0.000000    1.098612    0.000000   \n",
       "          103520      0.000000    1.386294    0.000000    1.386294   \n",
       "          103665      1.098612    0.000000    2.079442    2.302585   \n",
       "          105574      1.791759    2.079442    1.945910    2.397895   \n",
       "\n",
       "date                2017-08-11  2017-08-12  2017-08-13  2017-08-14  2017-08-15  \n",
       "store_nbr item_nbr                                                              \n",
       "1         96995       0.000000    0.000000    0.000000    0.000000    0.000000  \n",
       "          99197       0.000000    0.000000    0.000000    0.000000    0.000000  \n",
       "          103520      0.693147    0.693147    0.693147    0.000000    0.000000  \n",
       "          103665      1.098612    0.000000    0.000000    0.693147    0.693147  \n",
       "          105574      1.791759    1.791759    0.000000    1.386294    1.609438  \n",
       "\n",
       "[5 rows x 93 columns]"
      ]
     },
     "execution_count": 4,
     "metadata": {},
     "output_type": "execute_result"
    }
   ],
   "source": [
    "df_unit_sales.head()"
   ]
  },
  {
   "cell_type": "code",
   "execution_count": 5,
   "metadata": {
    "collapsed": false,
    "deletable": true,
    "editable": true
   },
   "outputs": [],
   "source": [
    "df_promo_train = df_train.set_index(\n",
    "    [\"store_nbr\", \"item_nbr\", \"date\"])[[\"onpromotion\"]].unstack(\n",
    "        level=-1).fillna(False)\n",
    "df_promo_train.columns = df_promo_train.columns.get_level_values(1)\n",
    "\n",
    "df_promo_test = df_test[[\"onpromotion\"]].unstack(level=-1).fillna(False)\n",
    "df_promo_test.columns = df_promo_test.columns.get_level_values(1)\n",
    "df_promo_test = df_promo_test.reindex(df_promo_train.index).fillna(False)\n",
    "\n",
    "df_promo = pd.concat([df_promo_train, df_promo_test], axis=1)\n",
    "del df_promo_train, df_promo_test"
   ]
  },
  {
   "cell_type": "code",
   "execution_count": 6,
   "metadata": {
    "collapsed": false,
    "deletable": true,
    "editable": true
   },
   "outputs": [
    {
     "data": {
      "text/html": [
       "<div>\n",
       "<style>\n",
       "    .dataframe thead tr:only-child th {\n",
       "        text-align: right;\n",
       "    }\n",
       "\n",
       "    .dataframe thead th {\n",
       "        text-align: left;\n",
       "    }\n",
       "\n",
       "    .dataframe tbody tr th {\n",
       "        vertical-align: top;\n",
       "    }\n",
       "</style>\n",
       "<table border=\"1\" class=\"dataframe\">\n",
       "  <thead>\n",
       "    <tr style=\"text-align: right;\">\n",
       "      <th></th>\n",
       "      <th>date</th>\n",
       "      <th>2017-05-15 00:00:00</th>\n",
       "      <th>2017-05-16 00:00:00</th>\n",
       "      <th>2017-05-17 00:00:00</th>\n",
       "      <th>2017-05-18 00:00:00</th>\n",
       "      <th>2017-05-19 00:00:00</th>\n",
       "      <th>2017-05-20 00:00:00</th>\n",
       "      <th>2017-05-21 00:00:00</th>\n",
       "      <th>2017-05-22 00:00:00</th>\n",
       "      <th>2017-05-23 00:00:00</th>\n",
       "      <th>2017-05-24 00:00:00</th>\n",
       "      <th>...</th>\n",
       "      <th>2017-08-22 00:00:00</th>\n",
       "      <th>2017-08-23 00:00:00</th>\n",
       "      <th>2017-08-24 00:00:00</th>\n",
       "      <th>2017-08-25 00:00:00</th>\n",
       "      <th>2017-08-26 00:00:00</th>\n",
       "      <th>2017-08-27 00:00:00</th>\n",
       "      <th>2017-08-28 00:00:00</th>\n",
       "      <th>2017-08-29 00:00:00</th>\n",
       "      <th>2017-08-30 00:00:00</th>\n",
       "      <th>2017-08-31 00:00:00</th>\n",
       "    </tr>\n",
       "    <tr>\n",
       "      <th>store_nbr</th>\n",
       "      <th>item_nbr</th>\n",
       "      <th></th>\n",
       "      <th></th>\n",
       "      <th></th>\n",
       "      <th></th>\n",
       "      <th></th>\n",
       "      <th></th>\n",
       "      <th></th>\n",
       "      <th></th>\n",
       "      <th></th>\n",
       "      <th></th>\n",
       "      <th></th>\n",
       "      <th></th>\n",
       "      <th></th>\n",
       "      <th></th>\n",
       "      <th></th>\n",
       "      <th></th>\n",
       "      <th></th>\n",
       "      <th></th>\n",
       "      <th></th>\n",
       "      <th></th>\n",
       "      <th></th>\n",
       "    </tr>\n",
       "  </thead>\n",
       "  <tbody>\n",
       "    <tr>\n",
       "      <th rowspan=\"5\" valign=\"top\">1</th>\n",
       "      <th>96995</th>\n",
       "      <td>False</td>\n",
       "      <td>False</td>\n",
       "      <td>False</td>\n",
       "      <td>False</td>\n",
       "      <td>False</td>\n",
       "      <td>False</td>\n",
       "      <td>False</td>\n",
       "      <td>False</td>\n",
       "      <td>False</td>\n",
       "      <td>False</td>\n",
       "      <td>...</td>\n",
       "      <td>False</td>\n",
       "      <td>False</td>\n",
       "      <td>False</td>\n",
       "      <td>False</td>\n",
       "      <td>False</td>\n",
       "      <td>False</td>\n",
       "      <td>False</td>\n",
       "      <td>False</td>\n",
       "      <td>False</td>\n",
       "      <td>False</td>\n",
       "    </tr>\n",
       "    <tr>\n",
       "      <th>99197</th>\n",
       "      <td>False</td>\n",
       "      <td>False</td>\n",
       "      <td>False</td>\n",
       "      <td>False</td>\n",
       "      <td>False</td>\n",
       "      <td>False</td>\n",
       "      <td>False</td>\n",
       "      <td>False</td>\n",
       "      <td>False</td>\n",
       "      <td>False</td>\n",
       "      <td>...</td>\n",
       "      <td>False</td>\n",
       "      <td>False</td>\n",
       "      <td>False</td>\n",
       "      <td>False</td>\n",
       "      <td>False</td>\n",
       "      <td>False</td>\n",
       "      <td>False</td>\n",
       "      <td>False</td>\n",
       "      <td>False</td>\n",
       "      <td>False</td>\n",
       "    </tr>\n",
       "    <tr>\n",
       "      <th>103520</th>\n",
       "      <td>False</td>\n",
       "      <td>False</td>\n",
       "      <td>False</td>\n",
       "      <td>False</td>\n",
       "      <td>False</td>\n",
       "      <td>False</td>\n",
       "      <td>False</td>\n",
       "      <td>False</td>\n",
       "      <td>False</td>\n",
       "      <td>False</td>\n",
       "      <td>...</td>\n",
       "      <td>False</td>\n",
       "      <td>False</td>\n",
       "      <td>False</td>\n",
       "      <td>False</td>\n",
       "      <td>False</td>\n",
       "      <td>False</td>\n",
       "      <td>False</td>\n",
       "      <td>False</td>\n",
       "      <td>False</td>\n",
       "      <td>False</td>\n",
       "    </tr>\n",
       "    <tr>\n",
       "      <th>103665</th>\n",
       "      <td>False</td>\n",
       "      <td>False</td>\n",
       "      <td>False</td>\n",
       "      <td>False</td>\n",
       "      <td>False</td>\n",
       "      <td>False</td>\n",
       "      <td>False</td>\n",
       "      <td>False</td>\n",
       "      <td>False</td>\n",
       "      <td>False</td>\n",
       "      <td>...</td>\n",
       "      <td>False</td>\n",
       "      <td>False</td>\n",
       "      <td>False</td>\n",
       "      <td>False</td>\n",
       "      <td>False</td>\n",
       "      <td>False</td>\n",
       "      <td>False</td>\n",
       "      <td>False</td>\n",
       "      <td>False</td>\n",
       "      <td>False</td>\n",
       "    </tr>\n",
       "    <tr>\n",
       "      <th>105574</th>\n",
       "      <td>False</td>\n",
       "      <td>False</td>\n",
       "      <td>False</td>\n",
       "      <td>False</td>\n",
       "      <td>False</td>\n",
       "      <td>False</td>\n",
       "      <td>False</td>\n",
       "      <td>False</td>\n",
       "      <td>False</td>\n",
       "      <td>False</td>\n",
       "      <td>...</td>\n",
       "      <td>False</td>\n",
       "      <td>False</td>\n",
       "      <td>False</td>\n",
       "      <td>False</td>\n",
       "      <td>False</td>\n",
       "      <td>False</td>\n",
       "      <td>False</td>\n",
       "      <td>False</td>\n",
       "      <td>False</td>\n",
       "      <td>False</td>\n",
       "    </tr>\n",
       "  </tbody>\n",
       "</table>\n",
       "<p>5 rows × 109 columns</p>\n",
       "</div>"
      ],
      "text/plain": [
       "date                2017-05-15  2017-05-16  2017-05-17  2017-05-18  \\\n",
       "store_nbr item_nbr                                                   \n",
       "1         96995          False       False       False       False   \n",
       "          99197          False       False       False       False   \n",
       "          103520         False       False       False       False   \n",
       "          103665         False       False       False       False   \n",
       "          105574         False       False       False       False   \n",
       "\n",
       "date                2017-05-19  2017-05-20  2017-05-21  2017-05-22  \\\n",
       "store_nbr item_nbr                                                   \n",
       "1         96995          False       False       False       False   \n",
       "          99197          False       False       False       False   \n",
       "          103520         False       False       False       False   \n",
       "          103665         False       False       False       False   \n",
       "          105574         False       False       False       False   \n",
       "\n",
       "date                2017-05-23  2017-05-24     ...      2017-08-22  \\\n",
       "store_nbr item_nbr                             ...                   \n",
       "1         96995          False       False     ...           False   \n",
       "          99197          False       False     ...           False   \n",
       "          103520         False       False     ...           False   \n",
       "          103665         False       False     ...           False   \n",
       "          105574         False       False     ...           False   \n",
       "\n",
       "date                2017-08-23  2017-08-24  2017-08-25  2017-08-26  \\\n",
       "store_nbr item_nbr                                                   \n",
       "1         96995          False       False       False       False   \n",
       "          99197          False       False       False       False   \n",
       "          103520         False       False       False       False   \n",
       "          103665         False       False       False       False   \n",
       "          105574         False       False       False       False   \n",
       "\n",
       "date                2017-08-27  2017-08-28  2017-08-29  2017-08-30  2017-08-31  \n",
       "store_nbr item_nbr                                                              \n",
       "1         96995          False       False       False       False       False  \n",
       "          99197          False       False       False       False       False  \n",
       "          103520         False       False       False       False       False  \n",
       "          103665         False       False       False       False       False  \n",
       "          105574         False       False       False       False       False  \n",
       "\n",
       "[5 rows x 109 columns]"
      ]
     },
     "execution_count": 6,
     "metadata": {},
     "output_type": "execute_result"
    }
   ],
   "source": [
    "df_promo.head()"
   ]
  },
  {
   "cell_type": "code",
   "execution_count": 7,
   "metadata": {
    "collapsed": false,
    "deletable": true,
    "editable": true
   },
   "outputs": [],
   "source": [
    "del df_train"
   ]
  },
  {
   "cell_type": "markdown",
   "metadata": {
    "deletable": true,
    "editable": true
   },
   "source": [
    "### Item information"
   ]
  },
  {
   "cell_type": "code",
   "execution_count": 8,
   "metadata": {
    "collapsed": false,
    "deletable": true,
    "editable": true
   },
   "outputs": [
    {
     "data": {
      "text/html": [
       "<div>\n",
       "<style>\n",
       "    .dataframe thead tr:only-child th {\n",
       "        text-align: right;\n",
       "    }\n",
       "\n",
       "    .dataframe thead th {\n",
       "        text-align: left;\n",
       "    }\n",
       "\n",
       "    .dataframe tbody tr th {\n",
       "        vertical-align: top;\n",
       "    }\n",
       "</style>\n",
       "<table border=\"1\" class=\"dataframe\">\n",
       "  <thead>\n",
       "    <tr style=\"text-align: right;\">\n",
       "      <th></th>\n",
       "      <th>family</th>\n",
       "      <th>class</th>\n",
       "      <th>perishable</th>\n",
       "    </tr>\n",
       "    <tr>\n",
       "      <th>item_nbr</th>\n",
       "      <th></th>\n",
       "      <th></th>\n",
       "      <th></th>\n",
       "    </tr>\n",
       "  </thead>\n",
       "  <tbody>\n",
       "    <tr>\n",
       "      <th>96995</th>\n",
       "      <td>GROCERY I</td>\n",
       "      <td>1093</td>\n",
       "      <td>0</td>\n",
       "    </tr>\n",
       "    <tr>\n",
       "      <th>99197</th>\n",
       "      <td>GROCERY I</td>\n",
       "      <td>1067</td>\n",
       "      <td>0</td>\n",
       "    </tr>\n",
       "    <tr>\n",
       "      <th>103520</th>\n",
       "      <td>GROCERY I</td>\n",
       "      <td>1028</td>\n",
       "      <td>0</td>\n",
       "    </tr>\n",
       "    <tr>\n",
       "      <th>103665</th>\n",
       "      <td>BREAD/BAKERY</td>\n",
       "      <td>2712</td>\n",
       "      <td>1</td>\n",
       "    </tr>\n",
       "    <tr>\n",
       "      <th>105574</th>\n",
       "      <td>GROCERY I</td>\n",
       "      <td>1045</td>\n",
       "      <td>0</td>\n",
       "    </tr>\n",
       "  </tbody>\n",
       "</table>\n",
       "</div>"
      ],
      "text/plain": [
       "                family  class  perishable\n",
       "item_nbr                                 \n",
       "96995        GROCERY I   1093           0\n",
       "99197        GROCERY I   1067           0\n",
       "103520       GROCERY I   1028           0\n",
       "103665    BREAD/BAKERY   2712           1\n",
       "105574       GROCERY I   1045           0"
      ]
     },
     "execution_count": 8,
     "metadata": {},
     "output_type": "execute_result"
    }
   ],
   "source": [
    "df_items = pd.read_csv(\n",
    "    \"data/items.csv\",\n",
    ").set_index(\"item_nbr\")\n",
    "df_items = df_items.reindex(df_unit_sales.index.get_level_values(1))\n",
    "df_items.head()"
   ]
  },
  {
   "cell_type": "markdown",
   "metadata": {
    "deletable": true,
    "editable": true
   },
   "source": [
    "Feature to use: class & perishable. Class is already numeric coded, which should perform well in tree models. For other models, binary encoding can be used instead."
   ]
  },
  {
   "cell_type": "markdown",
   "metadata": {
    "deletable": true,
    "editable": true
   },
   "source": [
    "### Store information"
   ]
  },
  {
   "cell_type": "code",
   "execution_count": 9,
   "metadata": {
    "collapsed": false,
    "deletable": true,
    "editable": true
   },
   "outputs": [],
   "source": [
    "df_stores = pd.read_csv(\"data/stores.csv\").set_index(\"store_nbr\")\n",
    "df_stores_original = df_stores.copy()\n",
    "df_stores_expanded = df_stores.reindex(df_unit_sales.index.get_level_values(0))"
   ]
  },
  {
   "cell_type": "code",
   "execution_count": 10,
   "metadata": {
    "collapsed": false,
    "deletable": true,
    "editable": true
   },
   "outputs": [
    {
     "data": {
      "text/html": [
       "<div>\n",
       "<style>\n",
       "    .dataframe thead tr:only-child th {\n",
       "        text-align: right;\n",
       "    }\n",
       "\n",
       "    .dataframe thead th {\n",
       "        text-align: left;\n",
       "    }\n",
       "\n",
       "    .dataframe tbody tr th {\n",
       "        vertical-align: top;\n",
       "    }\n",
       "</style>\n",
       "<table border=\"1\" class=\"dataframe\">\n",
       "  <thead>\n",
       "    <tr style=\"text-align: right;\">\n",
       "      <th></th>\n",
       "      <th>city</th>\n",
       "      <th>state</th>\n",
       "      <th>type</th>\n",
       "      <th>cluster</th>\n",
       "    </tr>\n",
       "    <tr>\n",
       "      <th>store_nbr</th>\n",
       "      <th></th>\n",
       "      <th></th>\n",
       "      <th></th>\n",
       "      <th></th>\n",
       "    </tr>\n",
       "  </thead>\n",
       "  <tbody>\n",
       "    <tr>\n",
       "      <th>1</th>\n",
       "      <td>Quito</td>\n",
       "      <td>Pichincha</td>\n",
       "      <td>D</td>\n",
       "      <td>13</td>\n",
       "    </tr>\n",
       "    <tr>\n",
       "      <th>1</th>\n",
       "      <td>Quito</td>\n",
       "      <td>Pichincha</td>\n",
       "      <td>D</td>\n",
       "      <td>13</td>\n",
       "    </tr>\n",
       "    <tr>\n",
       "      <th>1</th>\n",
       "      <td>Quito</td>\n",
       "      <td>Pichincha</td>\n",
       "      <td>D</td>\n",
       "      <td>13</td>\n",
       "    </tr>\n",
       "    <tr>\n",
       "      <th>1</th>\n",
       "      <td>Quito</td>\n",
       "      <td>Pichincha</td>\n",
       "      <td>D</td>\n",
       "      <td>13</td>\n",
       "    </tr>\n",
       "    <tr>\n",
       "      <th>1</th>\n",
       "      <td>Quito</td>\n",
       "      <td>Pichincha</td>\n",
       "      <td>D</td>\n",
       "      <td>13</td>\n",
       "    </tr>\n",
       "  </tbody>\n",
       "</table>\n",
       "</div>"
      ],
      "text/plain": [
       "            city      state type  cluster\n",
       "store_nbr                                \n",
       "1          Quito  Pichincha    D       13\n",
       "1          Quito  Pichincha    D       13\n",
       "1          Quito  Pichincha    D       13\n",
       "1          Quito  Pichincha    D       13\n",
       "1          Quito  Pichincha    D       13"
      ]
     },
     "execution_count": 10,
     "metadata": {},
     "output_type": "execute_result"
    }
   ],
   "source": [
    "df_stores_expanded.head()"
   ]
  },
  {
   "cell_type": "code",
   "execution_count": 11,
   "metadata": {
    "collapsed": false,
    "deletable": true,
    "editable": true
   },
   "outputs": [
    {
     "data": {
      "text/plain": [
       "Pichincha                         19\n",
       "Guayas                            11\n",
       "Santo Domingo de los Tsachilas     3\n",
       "Azuay                              3\n",
       "Manabi                             3\n",
       "Los Rios                           2\n",
       "Tungurahua                         2\n",
       "Cotopaxi                           2\n",
       "El Oro                             2\n",
       "Chimborazo                         1\n",
       "Santa Elena                        1\n",
       "Pastaza                            1\n",
       "Imbabura                           1\n",
       "Esmeraldas                         1\n",
       "Bolivar                            1\n",
       "Loja                               1\n",
       "Name: state, dtype: int64"
      ]
     },
     "execution_count": 11,
     "metadata": {},
     "output_type": "execute_result"
    }
   ],
   "source": [
    "df_stores_original['state'].value_counts()"
   ]
  },
  {
   "cell_type": "code",
   "execution_count": 12,
   "metadata": {
    "collapsed": false,
    "deletable": true,
    "editable": true
   },
   "outputs": [
    {
     "data": {
      "text/plain": [
       "Quito            18\n",
       "Guayaquil         8\n",
       "Cuenca            3\n",
       "Santo Domingo     3\n",
       "Manta             2\n",
       "Machala           2\n",
       "Latacunga         2\n",
       "Ambato            2\n",
       "Cayambe           1\n",
       "Salinas           1\n",
       "Loja              1\n",
       "Daule             1\n",
       "Babahoyo          1\n",
       "Esmeraldas        1\n",
       "El Carmen         1\n",
       "Playas            1\n",
       "Riobamba          1\n",
       "Puyo              1\n",
       "Libertad          1\n",
       "Quevedo           1\n",
       "Ibarra            1\n",
       "Guaranda          1\n",
       "Name: city, dtype: int64"
      ]
     },
     "execution_count": 12,
     "metadata": {},
     "output_type": "execute_result"
    }
   ],
   "source": [
    "df_stores_original['city'].value_counts()"
   ]
  },
  {
   "cell_type": "markdown",
   "metadata": {
    "deletable": true,
    "editable": true
   },
   "source": [
    "Choose to use type and cluster. Type can be numeric coded."
   ]
  },
  {
   "cell_type": "code",
   "execution_count": 13,
   "metadata": {
    "collapsed": false,
    "deletable": true,
    "editable": true
   },
   "outputs": [],
   "source": [
    "from sklearn.preprocessing import OneHotEncoder, LabelEncoder\n",
    "encoder = LabelEncoder()\n",
    "encoder.fit(df_stores_expanded['type'])\n",
    "df_stores_expanded['type'] = encoder.transform(df_stores_expanded['type'])"
   ]
  },
  {
   "cell_type": "markdown",
   "metadata": {
    "deletable": true,
    "editable": true
   },
   "source": [
    "### Oil price by date"
   ]
  },
  {
   "cell_type": "code",
   "execution_count": 14,
   "metadata": {
    "collapsed": false,
    "deletable": true,
    "editable": true
   },
   "outputs": [],
   "source": [
    "df_oil = pd.read_csv(\"data/oil.csv\", parse_dates = ['date']).set_index('date')\n",
    "df_oil = df_oil.fillna(method='backfill')['dcoilwtico']"
   ]
  },
  {
   "cell_type": "markdown",
   "metadata": {
    "deletable": true,
    "editable": true
   },
   "source": [
    "### Holiday information"
   ]
  },
  {
   "cell_type": "code",
   "execution_count": 15,
   "metadata": {
    "collapsed": false,
    "deletable": true,
    "editable": true
   },
   "outputs": [
    {
     "name": "stderr",
     "output_type": "stream",
     "text": [
      "C:\\Users\\xiaoyu\\.edm\\envs\\mle3\\lib\\site-packages\\pandas\\core\\internals.py:3224: FutureWarning: Passing in 'datetime64' dtype with no frequency is deprecated and will raise in a future version. Please pass in 'datetime64[ns]' instead.\n",
      "  return self.apply('astype', dtype=dtype, **kwargs)\n"
     ]
    },
    {
     "data": {
      "text/html": [
       "<div>\n",
       "<style>\n",
       "    .dataframe thead tr:only-child th {\n",
       "        text-align: right;\n",
       "    }\n",
       "\n",
       "    .dataframe thead th {\n",
       "        text-align: left;\n",
       "    }\n",
       "\n",
       "    .dataframe tbody tr th {\n",
       "        vertical-align: top;\n",
       "    }\n",
       "</style>\n",
       "<table border=\"1\" class=\"dataframe\">\n",
       "  <thead>\n",
       "    <tr style=\"text-align: right;\">\n",
       "      <th></th>\n",
       "      <th>date</th>\n",
       "      <th>type</th>\n",
       "      <th>locale</th>\n",
       "      <th>locale_name</th>\n",
       "      <th>description</th>\n",
       "      <th>transferred</th>\n",
       "    </tr>\n",
       "  </thead>\n",
       "  <tbody>\n",
       "    <tr>\n",
       "      <th>0</th>\n",
       "      <td>2012-03-02</td>\n",
       "      <td>Holiday</td>\n",
       "      <td>Local</td>\n",
       "      <td>Manta</td>\n",
       "      <td>Fundacion de Manta</td>\n",
       "      <td>False</td>\n",
       "    </tr>\n",
       "    <tr>\n",
       "      <th>1</th>\n",
       "      <td>2012-04-01</td>\n",
       "      <td>Holiday</td>\n",
       "      <td>Regional</td>\n",
       "      <td>Cotopaxi</td>\n",
       "      <td>Provincializacion de Cotopaxi</td>\n",
       "      <td>False</td>\n",
       "    </tr>\n",
       "    <tr>\n",
       "      <th>2</th>\n",
       "      <td>2012-04-12</td>\n",
       "      <td>Holiday</td>\n",
       "      <td>Local</td>\n",
       "      <td>Cuenca</td>\n",
       "      <td>Fundacion de Cuenca</td>\n",
       "      <td>False</td>\n",
       "    </tr>\n",
       "    <tr>\n",
       "      <th>3</th>\n",
       "      <td>2012-04-14</td>\n",
       "      <td>Holiday</td>\n",
       "      <td>Local</td>\n",
       "      <td>Libertad</td>\n",
       "      <td>Cantonizacion de Libertad</td>\n",
       "      <td>False</td>\n",
       "    </tr>\n",
       "    <tr>\n",
       "      <th>4</th>\n",
       "      <td>2012-04-21</td>\n",
       "      <td>Holiday</td>\n",
       "      <td>Local</td>\n",
       "      <td>Riobamba</td>\n",
       "      <td>Cantonizacion de Riobamba</td>\n",
       "      <td>False</td>\n",
       "    </tr>\n",
       "  </tbody>\n",
       "</table>\n",
       "</div>"
      ],
      "text/plain": [
       "        date     type    locale locale_name                    description  \\\n",
       "0 2012-03-02  Holiday     Local       Manta             Fundacion de Manta   \n",
       "1 2012-04-01  Holiday  Regional    Cotopaxi  Provincializacion de Cotopaxi   \n",
       "2 2012-04-12  Holiday     Local      Cuenca            Fundacion de Cuenca   \n",
       "3 2012-04-14  Holiday     Local    Libertad      Cantonizacion de Libertad   \n",
       "4 2012-04-21  Holiday     Local    Riobamba      Cantonizacion de Riobamba   \n",
       "\n",
       "   transferred  \n",
       "0        False  \n",
       "1        False  \n",
       "2        False  \n",
       "3        False  \n",
       "4        False  "
      ]
     },
     "execution_count": 15,
     "metadata": {},
     "output_type": "execute_result"
    }
   ],
   "source": [
    "df_holidays = pd.read_csv(\"data/holidays_events.csv\")\n",
    "df_holidays['date'] = df_holidays['date'].astype(np.datetime64)\n",
    "df_holidays.head()"
   ]
  },
  {
   "cell_type": "code",
   "execution_count": 16,
   "metadata": {
    "collapsed": false,
    "deletable": true,
    "editable": true
   },
   "outputs": [
    {
     "data": {
      "text/plain": [
       "National    174\n",
       "Local       152\n",
       "Regional     24\n",
       "Name: locale, dtype: int64"
      ]
     },
     "execution_count": 16,
     "metadata": {},
     "output_type": "execute_result"
    }
   ],
   "source": [
    "df_holidays[\"locale\"].value_counts()"
   ]
  },
  {
   "cell_type": "code",
   "execution_count": 17,
   "metadata": {
    "collapsed": false,
    "deletable": true,
    "editable": true
   },
   "outputs": [
    {
     "data": {
      "text/plain": [
       "Holiday       221\n",
       "Event          56\n",
       "Additional     51\n",
       "Transfer       12\n",
       "Bridge          5\n",
       "Work Day        5\n",
       "Name: type, dtype: int64"
      ]
     },
     "execution_count": 17,
     "metadata": {},
     "output_type": "execute_result"
    }
   ],
   "source": [
    "df_holidays[\"type\"].value_counts()"
   ]
  },
  {
   "cell_type": "code",
   "execution_count": 18,
   "metadata": {
    "collapsed": false,
    "deletable": true,
    "editable": true
   },
   "outputs": [
    {
     "data": {
      "text/plain": [
       "350"
      ]
     },
     "execution_count": 18,
     "metadata": {},
     "output_type": "execute_result"
    }
   ],
   "source": [
    "len(df_holidays)"
   ]
  },
  {
   "cell_type": "markdown",
   "metadata": {
    "deletable": true,
    "editable": true
   },
   "source": [
    "### Holiday inforamtion using the same index and column with unit sales and promotion"
   ]
  },
  {
   "cell_type": "code",
   "execution_count": 19,
   "metadata": {
    "collapsed": false,
    "deletable": true,
    "editable": true
   },
   "outputs": [],
   "source": [
    "df_holidays_expanded = pd.DataFrame(np.zeros(df_promo.values.shape), index=df_promo.index.copy(), columns=df_promo.columns.copy())"
   ]
  },
  {
   "cell_type": "markdown",
   "metadata": {
    "deletable": true,
    "editable": true
   },
   "source": [
    "### Populate the table"
   ]
  },
  {
   "cell_type": "code",
   "execution_count": 20,
   "metadata": {
    "collapsed": false,
    "deletable": true,
    "editable": true
   },
   "outputs": [
    {
     "name": "stdout",
     "output_type": "stream",
     "text": [
      "2012-03-02 00:00:00 is a Local holiday to  Manta\n",
      "2012-04-01 00:00:00 is a Regional holiday to  Cotopaxi\n",
      "2012-04-12 00:00:00 is a Local holiday to  Cuenca\n",
      "2012-04-14 00:00:00 is a Local holiday to  Libertad\n",
      "2012-04-21 00:00:00 is a Local holiday to  Riobamba\n",
      "2012-05-12 00:00:00 is a Local holiday to  Puyo\n",
      "2012-06-23 00:00:00 is a Local holiday to  Guaranda\n",
      "2012-06-25 00:00:00 is a Regional holiday to  Imbabura\n",
      "2012-06-25 00:00:00 is a Local holiday to  Latacunga\n",
      "2012-06-25 00:00:00 is a Local holiday to  Machala\n",
      "2012-07-03 00:00:00 is a Local holiday to  Santo Domingo\n",
      "2012-07-03 00:00:00 is a Local holiday to  El Carmen\n",
      "2012-07-23 00:00:00 is a Local holiday to  Cayambe\n",
      "2012-08-05 00:00:00 is a Local holiday to  Esmeraldas\n",
      "2012-08-10 00:00:00 is a National holiday\n",
      "2012-08-15 00:00:00 is a Local holiday to  Riobamba\n",
      "2012-08-24 00:00:00 is a Local holiday to  Ambato\n",
      "2012-09-28 00:00:00 is a Local holiday to  Ibarra\n",
      "2012-10-07 00:00:00 is a Local holiday to  Quevedo\n",
      "2012-10-09 00:00:00 is not a holiday\n",
      "2012-10-12 00:00:00 is a National holiday\n",
      "2012-11-02 00:00:00 is a National holiday\n",
      "2012-11-03 00:00:00 is a National holiday\n",
      "2012-11-06 00:00:00 is a Regional holiday to  Santo Domingo de los Tsachilas\n",
      "2012-11-07 00:00:00 is a Regional holiday to  Santa Elena\n",
      "2012-11-10 00:00:00 is a Local holiday to  Guaranda\n",
      "2012-11-11 00:00:00 is a Local holiday to  Latacunga\n",
      "2012-11-12 00:00:00 is a Local holiday to  Ambato\n",
      "2012-12-05 00:00:00 is a Local holiday to  Quito\n",
      "2012-12-06 00:00:00 is a Local holiday to  Quito\n",
      "2012-12-08 00:00:00 is a Local holiday to  Loja\n",
      "2012-12-21 00:00:00 is a National holiday\n",
      "2012-12-22 00:00:00 is a Local holiday to  Salinas\n",
      "2012-12-22 00:00:00 is a National holiday\n",
      "2012-12-23 00:00:00 is a National holiday\n",
      "2012-12-24 00:00:00 is a National holiday\n",
      "2012-12-24 00:00:00 is a National holiday\n",
      "2012-12-25 00:00:00 is a National holiday\n",
      "2012-12-26 00:00:00 is a National holiday\n",
      "2012-12-31 00:00:00 is a National holiday\n",
      "2012-12-31 00:00:00 is a National holiday\n",
      "2013-01-01 00:00:00 is a National holiday\n",
      "2013-01-05 00:00:00 is not a holiday\n",
      "2013-01-12 00:00:00 is not a holiday\n",
      "2013-02-11 00:00:00 is a National holiday\n",
      "2013-02-12 00:00:00 is a National holiday\n",
      "2013-03-02 00:00:00 is a Local holiday to  Manta\n",
      "2013-04-01 00:00:00 is a Regional holiday to  Cotopaxi\n",
      "2013-04-12 00:00:00 is a Local holiday to  Cuenca\n",
      "2013-04-14 00:00:00 is a Local holiday to  Libertad\n",
      "2013-04-21 00:00:00 is a Local holiday to  Riobamba\n",
      "2013-04-29 00:00:00 is a National holiday\n",
      "2013-05-01 00:00:00 is a National holiday\n",
      "2013-05-11 00:00:00 is a National holiday\n",
      "2013-05-12 00:00:00 is a Local holiday to  Puyo\n",
      "2013-05-12 00:00:00 is a National holiday\n",
      "2013-05-24 00:00:00 is a National holiday\n",
      "2013-06-23 00:00:00 is a Local holiday to  Guaranda\n",
      "2013-06-25 00:00:00 is a Regional holiday to  Imbabura\n",
      "2013-06-25 00:00:00 is a Local holiday to  Machala\n",
      "2013-06-25 00:00:00 is a Local holiday to  Latacunga\n",
      "2013-07-03 00:00:00 is a Local holiday to  El Carmen\n",
      "2013-07-03 00:00:00 is a Local holiday to  Santo Domingo\n",
      "2013-07-23 00:00:00 is a Local holiday to  Cayambe\n",
      "2013-07-24 00:00:00 is a Local holiday to  Guayaquil\n",
      "2013-07-25 00:00:00 is a Local holiday to  Guayaquil\n",
      "2013-08-05 00:00:00 is a Local holiday to  Esmeraldas\n",
      "2013-08-10 00:00:00 is a National holiday\n",
      "2013-08-15 00:00:00 is a Local holiday to  Riobamba\n",
      "2013-08-24 00:00:00 is a Local holiday to  Ambato\n",
      "2013-09-28 00:00:00 is a Local holiday to  Ibarra\n",
      "2013-10-07 00:00:00 is a Local holiday to  Quevedo\n",
      "2013-10-09 00:00:00 is not a holiday\n",
      "2013-10-11 00:00:00 is a National holiday\n",
      "2013-11-02 00:00:00 is a National holiday\n",
      "2013-11-03 00:00:00 is a National holiday\n",
      "2013-11-06 00:00:00 is a Regional holiday to  Santo Domingo de los Tsachilas\n",
      "2013-11-07 00:00:00 is a Regional holiday to  Santa Elena\n",
      "2013-11-10 00:00:00 is a Local holiday to  Guaranda\n",
      "2013-11-11 00:00:00 is a Local holiday to  Latacunga\n",
      "2013-11-12 00:00:00 is a Local holiday to  Ambato\n",
      "2013-12-05 00:00:00 is a Local holiday to  Quito\n",
      "2013-12-06 00:00:00 is a Local holiday to  Quito\n",
      "2013-12-08 00:00:00 is a Local holiday to  Loja\n",
      "2013-12-21 00:00:00 is a National holiday\n",
      "2013-12-22 00:00:00 is a National holiday\n",
      "2013-12-22 00:00:00 is a Local holiday to  Salinas\n",
      "2013-12-23 00:00:00 is a National holiday\n",
      "2013-12-24 00:00:00 is a National holiday\n",
      "2013-12-25 00:00:00 is a National holiday\n",
      "2013-12-26 00:00:00 is a National holiday\n",
      "2013-12-31 00:00:00 is a National holiday\n",
      "2014-01-01 00:00:00 is a National holiday\n",
      "2014-03-02 00:00:00 is a Local holiday to  Manta\n",
      "2014-03-03 00:00:00 is a National holiday\n",
      "2014-03-04 00:00:00 is a National holiday\n",
      "2014-04-01 00:00:00 is a Regional holiday to  Cotopaxi\n",
      "2014-04-12 00:00:00 is a Local holiday to  Cuenca\n",
      "2014-04-14 00:00:00 is a Local holiday to  Libertad\n",
      "2014-04-18 00:00:00 is a National holiday\n",
      "2014-04-21 00:00:00 is a Local holiday to  Riobamba\n",
      "2014-05-01 00:00:00 is a National holiday\n",
      "2014-05-10 00:00:00 is a National holiday\n",
      "2014-05-11 00:00:00 is a National holiday\n",
      "2014-05-12 00:00:00 is a Local holiday to  Puyo\n",
      "2014-05-24 00:00:00 is a National holiday\n",
      "2014-06-12 00:00:00 is a National holiday\n",
      "2014-06-15 00:00:00 is a National holiday\n",
      "2014-06-20 00:00:00 is a National holiday\n",
      "2014-06-23 00:00:00 is a Local holiday to  Guaranda\n",
      "2014-06-25 00:00:00 is a Local holiday to  Latacunga\n",
      "2014-06-25 00:00:00 is a Local holiday to  Machala\n",
      "2014-06-25 00:00:00 is a Regional holiday to  Imbabura\n",
      "2014-06-25 00:00:00 is a National holiday\n",
      "2014-06-28 00:00:00 is a National holiday\n",
      "2014-06-29 00:00:00 is a National holiday\n",
      "2014-06-30 00:00:00 is a National holiday\n",
      "2014-07-01 00:00:00 is a National holiday\n",
      "2014-07-03 00:00:00 is a Local holiday to  El Carmen\n",
      "2014-07-03 00:00:00 is a Local holiday to  Santo Domingo\n",
      "2014-07-04 00:00:00 is a National holiday\n",
      "2014-07-05 00:00:00 is a National holiday\n",
      "2014-07-08 00:00:00 is a National holiday\n",
      "2014-07-09 00:00:00 is a National holiday\n",
      "2014-07-12 00:00:00 is a National holiday\n",
      "2014-07-13 00:00:00 is a National holiday\n",
      "2014-07-23 00:00:00 is a Local holiday to  Cayambe\n",
      "2014-07-24 00:00:00 is a Local holiday to  Guayaquil\n",
      "2014-07-25 00:00:00 is a Local holiday to  Guayaquil\n",
      "2014-08-05 00:00:00 is a Local holiday to  Esmeraldas\n",
      "2014-08-10 00:00:00 is a National holiday\n",
      "2014-08-15 00:00:00 is a Local holiday to  Riobamba\n",
      "2014-08-24 00:00:00 is a Local holiday to  Ambato\n",
      "2014-09-28 00:00:00 is a Local holiday to  Ibarra\n",
      "2014-10-07 00:00:00 is a Local holiday to  Quevedo\n",
      "2014-10-09 00:00:00 is not a holiday\n",
      "2014-10-10 00:00:00 is a National holiday\n",
      "2014-11-02 00:00:00 is a National holiday\n",
      "2014-11-03 00:00:00 is a National holiday\n",
      "2014-11-06 00:00:00 is a Regional holiday to  Santo Domingo de los Tsachilas\n",
      "2014-11-07 00:00:00 is a Regional holiday to  Santa Elena\n",
      "2014-11-10 00:00:00 is a Local holiday to  Guaranda\n",
      "2014-11-11 00:00:00 is a Local holiday to  Latacunga\n",
      "2014-11-12 00:00:00 is a Local holiday to  Ambato\n",
      "2014-11-28 00:00:00 is a National holiday\n",
      "2014-12-01 00:00:00 is a National holiday\n",
      "2014-12-05 00:00:00 is a Local holiday to  Quito\n",
      "2014-12-06 00:00:00 is a Local holiday to  Quito\n",
      "2014-12-08 00:00:00 is a Local holiday to  Loja\n",
      "2014-12-20 00:00:00 is not a holiday\n",
      "2014-12-21 00:00:00 is a National holiday\n",
      "2014-12-22 00:00:00 is a Local holiday to  Salinas\n",
      "2014-12-22 00:00:00 is a National holiday\n",
      "2014-12-23 00:00:00 is a National holiday\n",
      "2014-12-24 00:00:00 is a National holiday\n",
      "2014-12-25 00:00:00 is a National holiday\n",
      "2014-12-26 00:00:00 is a National holiday\n",
      "2014-12-26 00:00:00 is a National holiday\n",
      "2014-12-31 00:00:00 is a National holiday\n",
      "2015-01-01 00:00:00 is a National holiday\n",
      "2015-01-02 00:00:00 is a National holiday\n",
      "2015-01-10 00:00:00 is not a holiday\n",
      "2015-02-16 00:00:00 is a National holiday\n",
      "2015-02-17 00:00:00 is a National holiday\n",
      "2015-03-02 00:00:00 is a Local holiday to  Manta\n",
      "2015-04-01 00:00:00 is a Regional holiday to  Cotopaxi\n",
      "2015-04-03 00:00:00 is a National holiday\n",
      "2015-04-12 00:00:00 is a Local holiday to  Cuenca\n",
      "2015-04-14 00:00:00 is a Local holiday to  Libertad\n",
      "2015-04-21 00:00:00 is a Local holiday to  Riobamba\n",
      "2015-05-01 00:00:00 is a National holiday\n",
      "2015-05-09 00:00:00 is a National holiday\n",
      "2015-05-10 00:00:00 is a National holiday\n",
      "2015-05-12 00:00:00 is a Local holiday to  Puyo\n",
      "2015-05-24 00:00:00 is a National holiday\n",
      "2015-06-23 00:00:00 is a Local holiday to  Guaranda\n",
      "2015-06-25 00:00:00 is a Local holiday to  Machala\n",
      "2015-06-25 00:00:00 is a Regional holiday to  Imbabura\n",
      "2015-06-25 00:00:00 is a Local holiday to  Latacunga\n",
      "2015-07-03 00:00:00 is a Local holiday to  El Carmen\n",
      "2015-07-03 00:00:00 is a Local holiday to  Santo Domingo\n",
      "2015-07-23 00:00:00 is a Local holiday to  Cayambe\n",
      "2015-07-24 00:00:00 is a Local holiday to  Guayaquil\n",
      "2015-07-25 00:00:00 is a Local holiday to  Guayaquil\n",
      "2015-08-05 00:00:00 is a Local holiday to  Esmeraldas\n",
      "2015-08-10 00:00:00 is a National holiday\n",
      "2015-08-15 00:00:00 is a Local holiday to  Riobamba\n",
      "2015-08-24 00:00:00 is a Local holiday to  Ambato\n",
      "2015-09-28 00:00:00 is a Local holiday to  Ibarra\n",
      "2015-10-07 00:00:00 is a Local holiday to  Quevedo\n",
      "2015-10-09 00:00:00 is a National holiday\n",
      "2015-11-02 00:00:00 is a National holiday\n",
      "2015-11-03 00:00:00 is a National holiday\n",
      "2015-11-06 00:00:00 is a Regional holiday to  Santo Domingo de los Tsachilas\n",
      "2015-11-07 00:00:00 is a Regional holiday to  Santa Elena\n",
      "2015-11-10 00:00:00 is a Local holiday to  Guaranda\n",
      "2015-11-11 00:00:00 is a Local holiday to  Latacunga\n",
      "2015-11-12 00:00:00 is a Local holiday to  Ambato\n",
      "2015-11-27 00:00:00 is a National holiday\n",
      "2015-11-30 00:00:00 is a National holiday\n",
      "2015-12-05 00:00:00 is a Local holiday to  Quito\n",
      "2015-12-06 00:00:00 is a Local holiday to  Quito\n",
      "2015-12-08 00:00:00 is a Local holiday to  Loja\n",
      "2015-12-21 00:00:00 is a National holiday\n",
      "2015-12-22 00:00:00 is a National holiday\n",
      "2015-12-22 00:00:00 is a Local holiday to  Salinas\n",
      "2015-12-23 00:00:00 is a National holiday\n",
      "2015-12-24 00:00:00 is a National holiday\n",
      "2015-12-25 00:00:00 is a National holiday\n",
      "2015-12-26 00:00:00 is a National holiday\n",
      "2015-12-31 00:00:00 is a National holiday\n",
      "2016-01-01 00:00:00 is a National holiday\n",
      "2016-02-08 00:00:00 is a National holiday\n",
      "2016-02-09 00:00:00 is a National holiday\n",
      "2016-03-02 00:00:00 is a Local holiday to  Manta\n",
      "2016-03-25 00:00:00 is a National holiday\n",
      "2016-04-01 00:00:00 is a Regional holiday to  Cotopaxi\n",
      "2016-04-12 00:00:00 is a Local holiday to  Cuenca\n",
      "2016-04-14 00:00:00 is a Local holiday to  Libertad\n",
      "2016-04-16 00:00:00 is a National holiday\n",
      "2016-04-17 00:00:00 is a National holiday\n",
      "2016-04-18 00:00:00 is a National holiday\n",
      "2016-04-19 00:00:00 is a National holiday\n",
      "2016-04-20 00:00:00 is a National holiday\n",
      "2016-04-21 00:00:00 is a Local holiday to  Riobamba\n",
      "2016-04-21 00:00:00 is a National holiday\n",
      "2016-04-22 00:00:00 is a National holiday\n",
      "2016-04-23 00:00:00 is a National holiday\n",
      "2016-04-24 00:00:00 is a National holiday\n",
      "2016-04-25 00:00:00 is a National holiday\n",
      "2016-04-26 00:00:00 is a National holiday\n",
      "2016-04-27 00:00:00 is a National holiday\n",
      "2016-04-28 00:00:00 is a National holiday\n",
      "2016-04-29 00:00:00 is a National holiday\n",
      "2016-04-30 00:00:00 is a National holiday\n",
      "2016-05-01 00:00:00 is a National holiday\n",
      "2016-05-01 00:00:00 is a National holiday\n",
      "2016-05-02 00:00:00 is a National holiday\n",
      "2016-05-03 00:00:00 is a National holiday\n",
      "2016-05-04 00:00:00 is a National holiday\n",
      "2016-05-05 00:00:00 is a National holiday\n",
      "2016-05-06 00:00:00 is a National holiday\n",
      "2016-05-07 00:00:00 is a National holiday\n",
      "2016-05-07 00:00:00 is a National holiday\n",
      "2016-05-08 00:00:00 is a National holiday\n",
      "2016-05-08 00:00:00 is a National holiday\n",
      "2016-05-09 00:00:00 is a National holiday\n",
      "2016-05-10 00:00:00 is a National holiday\n",
      "2016-05-11 00:00:00 is a National holiday\n",
      "2016-05-12 00:00:00 is a Local holiday to  Puyo\n",
      "2016-05-12 00:00:00 is a National holiday\n",
      "2016-05-13 00:00:00 is a National holiday\n",
      "2016-05-14 00:00:00 is a National holiday\n",
      "2016-05-15 00:00:00 is a National holiday\n",
      "2016-05-16 00:00:00 is a National holiday\n",
      "2016-05-24 00:00:00 is not a holiday\n",
      "2016-05-27 00:00:00 is a National holiday\n",
      "2016-06-23 00:00:00 is a Local holiday to  Guaranda\n",
      "2016-06-25 00:00:00 is a Local holiday to  Machala\n",
      "2016-06-25 00:00:00 is a Regional holiday to  Imbabura\n",
      "2016-06-25 00:00:00 is a Local holiday to  Latacunga\n",
      "2016-07-03 00:00:00 is a Local holiday to  El Carmen\n",
      "2016-07-03 00:00:00 is a Local holiday to  Santo Domingo\n",
      "2016-07-23 00:00:00 is a Local holiday to  Cayambe\n",
      "2016-07-24 00:00:00 is a Local holiday to  Guayaquil\n",
      "2016-07-24 00:00:00 is a Local holiday to  Guayaquil\n",
      "2016-07-25 00:00:00 is not a holiday\n",
      "2016-08-05 00:00:00 is a Local holiday to  Esmeraldas\n",
      "2016-08-10 00:00:00 is not a holiday\n",
      "2016-08-12 00:00:00 is a National holiday\n",
      "2016-08-15 00:00:00 is a Local holiday to  Riobamba\n",
      "2016-08-24 00:00:00 is a Local holiday to  Ambato\n",
      "2016-09-28 00:00:00 is a Local holiday to  Ibarra\n",
      "2016-10-07 00:00:00 is a Local holiday to  Quevedo\n",
      "2016-10-09 00:00:00 is a National holiday\n",
      "2016-11-02 00:00:00 is a National holiday\n",
      "2016-11-03 00:00:00 is a National holiday\n",
      "2016-11-04 00:00:00 is a National holiday\n",
      "2016-11-06 00:00:00 is a Regional holiday to  Santo Domingo de los Tsachilas\n",
      "2016-11-07 00:00:00 is a Regional holiday to  Santa Elena\n",
      "2016-11-10 00:00:00 is a Local holiday to  Guaranda\n",
      "2016-11-11 00:00:00 is a Local holiday to  Latacunga\n",
      "2016-11-12 00:00:00 is a Local holiday to  Ambato\n",
      "2016-11-12 00:00:00 is not a holiday\n",
      "2016-11-25 00:00:00 is a National holiday\n",
      "2016-11-28 00:00:00 is a National holiday\n",
      "2016-12-05 00:00:00 is a Local holiday to  Quito\n",
      "2016-12-06 00:00:00 is a Local holiday to  Quito\n",
      "2016-12-08 00:00:00 is a Local holiday to  Loja\n",
      "2016-12-21 00:00:00 is a National holiday\n",
      "2016-12-22 00:00:00 is a National holiday\n",
      "2016-12-22 00:00:00 is a Local holiday to  Salinas\n",
      "2016-12-23 00:00:00 is a National holiday\n",
      "2016-12-24 00:00:00 is a National holiday\n",
      "2016-12-25 00:00:00 is a National holiday\n",
      "2016-12-26 00:00:00 is a National holiday\n",
      "2016-12-31 00:00:00 is a National holiday\n",
      "2017-01-01 00:00:00 is not a holiday\n",
      "2017-01-02 00:00:00 is a National holiday\n",
      "2017-02-27 00:00:00 is a National holiday\n",
      "2017-02-28 00:00:00 is a National holiday\n",
      "2017-03-02 00:00:00 is a Local holiday to  Manta\n",
      "2017-04-01 00:00:00 is a Regional holiday to  Cotopaxi\n",
      "2017-04-12 00:00:00 is not a holiday\n",
      "2017-04-13 00:00:00 is a Local holiday to  Cuenca\n",
      "2017-04-14 00:00:00 is a Local holiday to  Libertad\n",
      "2017-04-14 00:00:00 is a National holiday\n",
      "2017-04-21 00:00:00 is a Local holiday to  Riobamba\n",
      "2017-05-01 00:00:00 is a National holiday\n",
      "2017-05-12 00:00:00 is a Local holiday to  Puyo\n",
      "2017-05-13 00:00:00 is a National holiday\n",
      "2017-05-14 00:00:00 is a National holiday\n",
      "2017-05-24 00:00:00 is not a holiday\n",
      "2017-05-26 00:00:00 is a National holiday\n",
      "2017-06-23 00:00:00 is a Local holiday to  Guaranda\n",
      "2017-06-25 00:00:00 is a Regional holiday to  Imbabura\n",
      "2017-06-25 00:00:00 is a Local holiday to  Latacunga\n",
      "2017-06-25 00:00:00 is a Local holiday to  Machala\n",
      "2017-07-03 00:00:00 is a Local holiday to  El Carmen\n",
      "2017-07-03 00:00:00 is a Local holiday to  Santo Domingo\n",
      "2017-07-23 00:00:00 is a Local holiday to  Cayambe\n",
      "2017-07-24 00:00:00 is a Local holiday to  Guayaquil\n",
      "2017-07-25 00:00:00 is a Local holiday to  Guayaquil\n",
      "2017-08-05 00:00:00 is a Local holiday to  Esmeraldas\n",
      "2017-08-10 00:00:00 is not a holiday\n",
      "2017-08-11 00:00:00 is a National holiday\n",
      "2017-08-15 00:00:00 is a Local holiday to  Riobamba\n",
      "2017-08-24 00:00:00 is a Local holiday to  Ambato\n",
      "2017-09-28 00:00:00 is not a holiday\n",
      "2017-09-29 00:00:00 is a Local holiday to  Ibarra\n",
      "2017-10-07 00:00:00 is a Local holiday to  Quevedo\n",
      "2017-10-09 00:00:00 is a National holiday\n",
      "2017-11-02 00:00:00 is a National holiday\n",
      "2017-11-03 00:00:00 is a National holiday\n",
      "2017-11-06 00:00:00 is a Regional holiday to  Santo Domingo de los Tsachilas\n",
      "2017-11-07 00:00:00 is a Regional holiday to  Santa Elena\n",
      "2017-11-10 00:00:00 is a Local holiday to  Guaranda\n",
      "2017-11-11 00:00:00 is a Local holiday to  Latacunga\n",
      "2017-11-12 00:00:00 is a Local holiday to  Ambato\n",
      "2017-12-05 00:00:00 is a Local holiday to  Quito\n",
      "2017-12-06 00:00:00 is not a holiday\n",
      "2017-12-08 00:00:00 is a Local holiday to  Loja\n",
      "2017-12-08 00:00:00 is a Local holiday to  Quito\n",
      "2017-12-21 00:00:00 is a National holiday\n",
      "2017-12-22 00:00:00 is a Local holiday to  Salinas\n",
      "2017-12-22 00:00:00 is a National holiday\n",
      "2017-12-23 00:00:00 is a National holiday\n",
      "2017-12-24 00:00:00 is a National holiday\n",
      "2017-12-25 00:00:00 is a National holiday\n",
      "2017-12-26 00:00:00 is a National holiday\n"
     ]
    }
   ],
   "source": [
    "for i in df_holidays.index.values[:]:\n",
    "    # Remove non-holidays\n",
    "    if df_holidays.loc[i, 'transferred'] == True or df_holidays.loc[i, 'type'] == 'Work Day':\n",
    "        print(df_holidays.loc[i, 'date'], \"is not a holiday\")\n",
    "    else:\n",
    "        # Populate table according to holiday locale\n",
    "        if df_holidays.loc[i, 'locale'] == 'National':\n",
    "            print(df_holidays.loc[i, 'date'], \"is a National holiday\")\n",
    "            df_holidays_expanded.iloc[:, df_holidays_expanded.columns.get_level_values(0) == df_holidays.loc[i, 'date']] = 1\n",
    "        elif df_holidays.loc[i, 'locale'] == 'Regional':\n",
    "            print(df_holidays.loc[i, 'date'], \"is a Regional holiday to \", df_holidays.loc[i, 'locale_name'])\n",
    "            df_holidays_expanded.iloc[\n",
    "                df_holidays_expanded.index.get_level_values(0).isin(\n",
    "                    df_stores.loc[df_stores_original['state'] == df_holidays.loc[i, 'locale_name']].index.values\n",
    "                ),\n",
    "                df_holidays_expanded.columns.get_level_values(0) == df_holidays.loc[i, 'date']\n",
    "            ] = 1\n",
    "        elif df_holidays.loc[i, 'locale'] == 'Local':\n",
    "            print(df_holidays.loc[i, 'date'], \"is a Local holiday to \", df_holidays.loc[i, 'locale_name'])\n",
    "            df_holidays_expanded.iloc[\n",
    "                df_holidays_expanded.index.get_level_values(0).isin(\n",
    "                    df_stores.loc[df_stores_original['city'] == df_holidays.loc[i, 'locale_name']].index.values\n",
    "                ),\n",
    "                df_holidays_expanded.columns.get_level_values(0) == df_holidays.loc[i, 'date']\n",
    "            ] = 1\n",
    "        else:\n",
    "            print(\"Warning!\")"
   ]
  },
  {
   "cell_type": "markdown",
   "metadata": {
    "deletable": true,
    "editable": true
   },
   "source": [
    "# Generate single date samples"
   ]
  },
  {
   "cell_type": "code",
   "execution_count": 21,
   "metadata": {
    "collapsed": true,
    "deletable": true,
    "editable": true
   },
   "outputs": [],
   "source": [
    "def get_timespan(df, dt, minus, periods):\n",
    "    return df[\n",
    "        pd.date_range(dt - timedelta(days=minus), periods=periods)\n",
    "    ]"
   ]
  },
  {
   "cell_type": "code",
   "execution_count": 22,
   "metadata": {
    "collapsed": true,
    "deletable": true,
    "editable": true
   },
   "outputs": [],
   "source": [
    "def prepare_sample(sales_raw, promo_raw, oil_raw, holiday_raw, store_raw, sample_dt, is_train=True):\n",
    "    temp_dict = {}\n",
    "    for i in [3, 7, 14, 28]:\n",
    "        temp_dict[\"mean_{}\".format(i)] = get_timespan(sales_raw, sample_dt, i, i).mean(axis=1).values\n",
    "        temp_dict[\"promo_{}_sum\".format(i)] = get_timespan(promo_raw, sample_dt, i, i).sum(axis=1).values\n",
    "        temp_dict[\"oil_{}_mean\".format(i)] = get_timespan(oil_raw, sample_dt, i, i).mean()\n",
    "        temp_dict[\"holiday_{}_sum\".format(i)] = get_timespan(holiday_raw, sample_dt, i, i).sum(axis=1).values\n",
    "    X = pd.DataFrame(temp_dict)\n",
    "    for i in range(16):\n",
    "        X[\"promo_{}\".format(i)] = promo_raw[\n",
    "            sample_dt + timedelta(days=i)].values.astype(np.uint8)\n",
    "    X['store_type'] = store_raw['type'].values\n",
    "    X['store_cluster'] = store_raw['cluster'].values\n",
    "    X['item_perishable'] = df_items['perishable'].values\n",
    "    X['item_class'] = df_items['class'].values\n",
    "    if is_train:\n",
    "        y = sales_raw[\n",
    "            pd.date_range(sample_dt, periods=16)\n",
    "        ].values\n",
    "        return X, y\n",
    "    return X"
   ]
  },
  {
   "cell_type": "markdown",
   "metadata": {
    "deletable": true,
    "editable": true
   },
   "source": [
    "# Generate dataset"
   ]
  },
  {
   "cell_type": "code",
   "execution_count": 23,
   "metadata": {
    "collapsed": false,
    "deletable": true,
    "editable": true
   },
   "outputs": [
    {
     "data": {
      "text/plain": [
       "datetime.timedelta(178)"
      ]
     },
     "execution_count": 23,
     "metadata": {},
     "output_type": "execute_result"
    }
   ],
   "source": [
    "date(2017, 7, 29) - date(2017, 2, 1)"
   ]
  },
  {
   "cell_type": "code",
   "execution_count": 24,
   "metadata": {
    "collapsed": false,
    "deletable": true,
    "editable": true
   },
   "outputs": [],
   "source": [
    "some_date = date(2017, 7, 1)\n",
    "X_l, y_l = [], []\n",
    "for i in range(4):\n",
    "    delta = timedelta(days=i*7)\n",
    "    X_tmp, y_tmp = prepare_sample(\n",
    "        df_unit_sales, df_promo, df_oil, df_holidays_expanded, df_stores_expanded,\n",
    "        some_date + delta\n",
    "    )\n",
    "    X_l.append(X_tmp)\n",
    "    y_l.append(y_tmp)\n",
    "X_train = pd.concat(X_l, axis=0)\n",
    "y_train = np.concatenate(y_l, axis=0)\n",
    "del X_l, y_l\n",
    "X_val, y_val = prepare_sample(\n",
    "    df_unit_sales, df_promo, df_oil, df_holidays_expanded, df_stores_expanded, date(2017, 7, 29)\n",
    ")\n",
    "X_test = prepare_sample(\n",
    "    df_unit_sales, df_promo, df_oil, df_holidays_expanded, df_stores_expanded, date(2017, 8, 16), is_train=False\n",
    ")"
   ]
  },
  {
   "cell_type": "code",
   "execution_count": 25,
   "metadata": {
    "collapsed": false,
    "deletable": true,
    "editable": true
   },
   "outputs": [
    {
     "data": {
      "text/plain": [
       "(633640, 36)"
      ]
     },
     "execution_count": 25,
     "metadata": {},
     "output_type": "execute_result"
    }
   ],
   "source": [
    "X_train.values.shape"
   ]
  },
  {
   "cell_type": "code",
   "execution_count": 26,
   "metadata": {
    "collapsed": false,
    "deletable": true,
    "editable": true
   },
   "outputs": [
    {
     "name": "stdout",
     "output_type": "stream",
     "text": [
      "<class 'pandas.core.frame.DataFrame'>\n",
      "Int64Index: 633640 entries, 0 to 158409\n",
      "Data columns (total 36 columns):\n",
      "holiday_14_sum     633640 non-null float64\n",
      "holiday_28_sum     633640 non-null float64\n",
      "holiday_3_sum      633640 non-null float64\n",
      "holiday_7_sum      633640 non-null float64\n",
      "mean_14            633640 non-null float64\n",
      "mean_28            633640 non-null float64\n",
      "mean_3             633640 non-null float64\n",
      "mean_7             633640 non-null float64\n",
      "oil_14_mean        633640 non-null float64\n",
      "oil_28_mean        633640 non-null float64\n",
      "oil_3_mean         633640 non-null float64\n",
      "oil_7_mean         633640 non-null float64\n",
      "promo_14_sum       633640 non-null int64\n",
      "promo_28_sum       633640 non-null int64\n",
      "promo_3_sum        633640 non-null int64\n",
      "promo_7_sum        633640 non-null int64\n",
      "promo_0            633640 non-null uint8\n",
      "promo_1            633640 non-null uint8\n",
      "promo_2            633640 non-null uint8\n",
      "promo_3            633640 non-null uint8\n",
      "promo_4            633640 non-null uint8\n",
      "promo_5            633640 non-null uint8\n",
      "promo_6            633640 non-null uint8\n",
      "promo_7            633640 non-null uint8\n",
      "promo_8            633640 non-null uint8\n",
      "promo_9            633640 non-null uint8\n",
      "promo_10           633640 non-null uint8\n",
      "promo_11           633640 non-null uint8\n",
      "promo_12           633640 non-null uint8\n",
      "promo_13           633640 non-null uint8\n",
      "promo_14           633640 non-null uint8\n",
      "promo_15           633640 non-null uint8\n",
      "store_type         633640 non-null int64\n",
      "store_cluster      633640 non-null int64\n",
      "item_perishable    633640 non-null int64\n",
      "item_class         633640 non-null int64\n",
      "dtypes: float64(12), int64(8), uint8(16)\n",
      "memory usage: 111.2 MB\n"
     ]
    }
   ],
   "source": [
    "X_train.info()"
   ]
  },
  {
   "cell_type": "markdown",
   "metadata": {
    "deletable": true,
    "editable": true
   },
   "source": [
    "# Save to file"
   ]
  },
  {
   "cell_type": "code",
   "execution_count": 27,
   "metadata": {
    "collapsed": false,
    "deletable": true,
    "editable": true,
    "scrolled": true
   },
   "outputs": [],
   "source": [
    "X_train.to_csv('data/X_train_2017.csv', index=False)"
   ]
  },
  {
   "cell_type": "code",
   "execution_count": 28,
   "metadata": {
    "collapsed": false,
    "deletable": true,
    "editable": true
   },
   "outputs": [],
   "source": [
    "np.savetxt(\"data/y_train_2017.csv\", y_train, delimiter=\",\")"
   ]
  },
  {
   "cell_type": "code",
   "execution_count": 29,
   "metadata": {
    "collapsed": true,
    "deletable": true,
    "editable": true
   },
   "outputs": [],
   "source": [
    "X_val.to_csv('data/X_val_2017.csv', index=False)"
   ]
  },
  {
   "cell_type": "code",
   "execution_count": 30,
   "metadata": {
    "collapsed": true,
    "deletable": true,
    "editable": true
   },
   "outputs": [],
   "source": [
    "np.savetxt(\"data/y_val_2017.csv\", y_val, delimiter=\",\")"
   ]
  },
  {
   "cell_type": "code",
   "execution_count": 31,
   "metadata": {
    "collapsed": true,
    "deletable": true,
    "editable": true
   },
   "outputs": [],
   "source": [
    "X_test.to_csv('data/X_test.csv', index=False)"
   ]
  },
  {
   "cell_type": "code",
   "execution_count": null,
   "metadata": {
    "collapsed": true,
    "deletable": true,
    "editable": true
   },
   "outputs": [],
   "source": []
  }
 ],
 "metadata": {
  "kernelspec": {
   "display_name": "Python 3",
   "language": "python",
   "name": "python3"
  },
  "language_info": {
   "codemirror_mode": {
    "name": "ipython",
    "version": 3
   },
   "file_extension": ".py",
   "mimetype": "text/x-python",
   "name": "python",
   "nbconvert_exporter": "python",
   "pygments_lexer": "ipython3",
   "version": "3.5.2"
  }
 },
 "nbformat": 4,
 "nbformat_minor": 2
}
