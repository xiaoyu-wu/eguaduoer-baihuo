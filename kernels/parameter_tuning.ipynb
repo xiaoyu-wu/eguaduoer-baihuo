{
 "cells": [
  {
   "cell_type": "code",
   "execution_count": 1,
   "metadata": {
    "collapsed": true
   },
   "outputs": [],
   "source": [
    "import time\n",
    "from datetime import date, timedelta\n",
    "import pandas as pd\n",
    "import numpy as np\n",
    "from sklearn.metrics import mean_squared_error\n",
    "from sklearn.model_selection import GridSearchCV\n",
    "import lightgbm as lgb"
   ]
  },
  {
   "cell_type": "code",
   "execution_count": 2,
   "metadata": {
    "collapsed": false
   },
   "outputs": [],
   "source": [
    "X_train = pd.read_csv('../input/X_train.csv')\n",
    "y_train = np.genfromtxt('../input/y_train.csv', delimiter=\",\")\n",
    "X_val = pd.read_csv('../input/X_val.csv')\n",
    "y_val = np.genfromtxt('../input/y_val.csv', delimiter=\",\")"
   ]
  },
  {
   "cell_type": "code",
   "execution_count": 21,
   "metadata": {
    "collapsed": false
   },
   "outputs": [
    {
     "name": "stdout",
     "output_type": "stream",
     "text": [
      "Train with 10.0% data.\n"
     ]
    }
   ],
   "source": [
    "# Use small portion of data for fast development\n",
    "FAST_DEV = True\n",
    "if FAST_DEV:\n",
    "    DEV_PERCENT = 0.1\n",
    "    print(\"Train with {}% data.\".format(DEV_PERCENT*100))\n",
    "    m_train = int(len(X_train) * DEV_PERCENT)\n",
    "    X_train = X_train.iloc[:m_train, :]\n",
    "    y_train = y_train[:m_train, :]\n",
    "    # m_val = int(len(X_val) * DEV_PERCENT)\n",
    "    # X_val = X_val.iloc[:m_val, :]\n",
    "    # y_val = y_val[:m_val, :]\n",
    "else:\n",
    "    DEV_PERCENT = 1\n",
    "    print(\"Train with {}% data.\".format(DEV_PERCENT*100))"
   ]
  },
  {
   "cell_type": "code",
   "execution_count": 22,
   "metadata": {
    "collapsed": false
   },
   "outputs": [
    {
     "name": "stdout",
     "output_type": "stream",
     "text": [
      "Defining parameter space...\n"
     ]
    }
   ],
   "source": [
    "print(\"Defining parameter space...\")\n",
    "\n",
    "params = {\n",
    "    'boosting_type': ['gbdt'],\n",
    "    'num_leaves': [2**8 - 1],\n",
    "    'objective': ['regression_l2'],\n",
    "    # 'max_depth': 8,\n",
    "    'min_data_in_leaf': [50],\n",
    "    'learning_rate': [0.05],\n",
    "    'feature_fraction': [0.75],\n",
    "    'bagging_fraction': [0.75],\n",
    "    'bagging_freq': [1],\n",
    "    'metric': ['l2'],\n",
    "    'num_threads': [4],\n",
    "    'num_boost_round': [1000],\n",
    "#     'early_stopping_rounds': [50]\n",
    "}"
   ]
  },
  {
   "cell_type": "code",
   "execution_count": 23,
   "metadata": {
    "collapsed": false
   },
   "outputs": [
    {
     "name": "stdout",
     "output_type": "stream",
     "text": [
      "4 categorical features found in the training set. column #: [70, 71, 72, 73]\n"
     ]
    }
   ],
   "source": [
    "cate_names = ['store_type', 'store_cluster', 'item_perishable', 'item_class']\n",
    "cate_vars = [list(X_train.columns).index(i) for i in cate_names]\n",
    "print(\"{} categorical features found in the training set. column #: {}\".format(len(cate_vars), cate_vars))"
   ]
  },
  {
   "cell_type": "code",
   "execution_count": 24,
   "metadata": {
    "collapsed": false
   },
   "outputs": [],
   "source": [
    "lgb_reg = lgb.LGBMRegressor(\n",
    "    random_state=42,\n",
    "    categorical_feature=cate_vars,\n",
    "    sample_weight=X_train['item_perishable'].values * 0.25 + 1,\n",
    "    verbose=50,\n",
    "#     eval_set=[(X_val, y_val)],\n",
    "#     eval_sample_weight=[X_val['item_perishable'].values * 0.25 + 1],\n",
    "#     eval_metric='regression_l2'\n",
    ")"
   ]
  },
  {
   "cell_type": "code",
   "execution_count": 25,
   "metadata": {
    "collapsed": false
   },
   "outputs": [
    {
     "name": "stderr",
     "output_type": "stream",
     "text": [
      "C:\\Users\\xiaoyu\\.edm\\envs\\mle3\\lib\\site-packages\\lightgbm\\engine.py:99: UserWarning: Found `num_boost_round` in params. Will use it instead of argument\n",
      "  warnings.warn(\"Found `{}` in params. Will use it instead of argument\".format(alias))\n",
      "C:\\Users\\xiaoyu\\.edm\\envs\\mle3\\lib\\site-packages\\lightgbm\\basic.py:644: UserWarning: categorical_feature keyword has been found in `params` and will be ignored. Please use categorical_feature argument of the Dataset constructor to pass this parameter.\n",
      "  'Please use {0} argument of the Dataset constructor to pass this parameter.'.format(key))\n",
      "C:\\Users\\xiaoyu\\.edm\\envs\\mle3\\lib\\site-packages\\lightgbm\\engine.py:99: UserWarning: Found `num_boost_round` in params. Will use it instead of argument\n",
      "  warnings.warn(\"Found `{}` in params. Will use it instead of argument\".format(alias))\n",
      "C:\\Users\\xiaoyu\\.edm\\envs\\mle3\\lib\\site-packages\\lightgbm\\basic.py:644: UserWarning: categorical_feature keyword has been found in `params` and will be ignored. Please use categorical_feature argument of the Dataset constructor to pass this parameter.\n",
      "  'Please use {0} argument of the Dataset constructor to pass this parameter.'.format(key))\n",
      "C:\\Users\\xiaoyu\\.edm\\envs\\mle3\\lib\\site-packages\\lightgbm\\engine.py:99: UserWarning: Found `num_boost_round` in params. Will use it instead of argument\n",
      "  warnings.warn(\"Found `{}` in params. Will use it instead of argument\".format(alias))\n",
      "C:\\Users\\xiaoyu\\.edm\\envs\\mle3\\lib\\site-packages\\lightgbm\\basic.py:644: UserWarning: categorical_feature keyword has been found in `params` and will be ignored. Please use categorical_feature argument of the Dataset constructor to pass this parameter.\n",
      "  'Please use {0} argument of the Dataset constructor to pass this parameter.'.format(key))\n",
      "C:\\Users\\xiaoyu\\.edm\\envs\\mle3\\lib\\site-packages\\lightgbm\\engine.py:99: UserWarning: Found `num_boost_round` in params. Will use it instead of argument\n",
      "  warnings.warn(\"Found `{}` in params. Will use it instead of argument\".format(alias))\n",
      "C:\\Users\\xiaoyu\\.edm\\envs\\mle3\\lib\\site-packages\\lightgbm\\basic.py:644: UserWarning: categorical_feature keyword has been found in `params` and will be ignored. Please use categorical_feature argument of the Dataset constructor to pass this parameter.\n",
      "  'Please use {0} argument of the Dataset constructor to pass this parameter.'.format(key))\n"
     ]
    },
    {
     "name": "stdout",
     "output_type": "stream",
     "text": [
      "{'objective': 'regression_l2', 'metric': 'l2', 'learning_rate': 0.05, 'bagging_freq': 1, 'feature_fraction': 0.75, 'min_data_in_leaf': 50, 'boosting_type': 'gbdt', 'num_threads': 4, 'bagging_fraction': 0.75, 'num_leaves': 255, 'num_boost_round': 1000}\n"
     ]
    }
   ],
   "source": [
    "gbm = GridSearchCV(lgb_reg, params, cv=3)\n",
    "gbm.fit(X_train, y_train[:, 0])\n",
    "print(gbm.best_params_)"
   ]
  },
  {
   "cell_type": "code",
   "execution_count": 26,
   "metadata": {
    "collapsed": false
   },
   "outputs": [
    {
     "data": {
      "text/plain": [
       "0.66488926104418766"
      ]
     },
     "execution_count": 26,
     "metadata": {},
     "output_type": "execute_result"
    }
   ],
   "source": [
    "gbm.best_score_"
   ]
  },
  {
   "cell_type": "code",
   "execution_count": 27,
   "metadata": {
    "collapsed": false
   },
   "outputs": [
    {
     "data": {
      "text/plain": [
       "[70, 71, 72, 73]"
      ]
     },
     "execution_count": 27,
     "metadata": {},
     "output_type": "execute_result"
    }
   ],
   "source": [
    "gbm.best_estimator_.categorical_feature"
   ]
  },
  {
   "cell_type": "code",
   "execution_count": 28,
   "metadata": {
    "collapsed": false
   },
   "outputs": [
    {
     "data": {
      "text/plain": [
       "LGBMRegressor(bagging_fraction=0.75, bagging_freq=1, boosting_type='gbdt',\n",
       "       categorical_feature=[70, 71, 72, 73], class_weight=None,\n",
       "       colsample_bytree=1.0, feature_fraction=0.75, learning_rate=0.05,\n",
       "       max_depth=-1, metric='l2', min_child_samples=20,\n",
       "       min_child_weight=0.001, min_data_in_leaf=50, min_split_gain=0.0,\n",
       "       n_estimators=100, n_jobs=-1, num_boost_round=1000, num_leaves=255,\n",
       "       num_threads=4, objective='regression_l2', random_state=42,\n",
       "       reg_alpha=0.0, reg_lambda=0.0,\n",
       "       sample_weight=array([ 1.,  1., ...,  1.,  1.]), silent=True,\n",
       "       subsample=1.0, subsample_for_bin=200000, subsample_freq=1,\n",
       "       verbose=50)"
      ]
     },
     "execution_count": 28,
     "metadata": {},
     "output_type": "execute_result"
    }
   ],
   "source": [
    "gbm.best_estimator_"
   ]
  },
  {
   "cell_type": "code",
   "execution_count": 29,
   "metadata": {
    "collapsed": false
   },
   "outputs": [
    {
     "name": "stdout",
     "output_type": "stream",
     "text": [
      "item_class: 3571.00\n",
      "mean_7: 3566.00\n",
      "mean_3: 3349.00\n",
      "mean_4_dow5_2017: 3302.00\n",
      "mean_4_dow3_2017: 3285.00\n",
      "mean_4_dow0_2017: 3097.00\n",
      "mean_20_dow4_2017: 3092.00\n",
      "mean_4_dow4_2017: 3029.00\n",
      "mean_4_dow6_2017: 3015.00\n",
      "mean_20_dow5_2017: 3013.00\n",
      "mean_20_dow3_2017: 2960.00\n",
      "mean_20_dow2_2017: 2942.00\n",
      "store_cluster: 2934.00\n",
      "mean_20_dow1_2017: 2923.00\n",
      "mean_14: 2915.00\n",
      "mean_4_dow2_2017: 2858.00\n",
      "mean_4_dow1_2017: 2827.00\n",
      "mean_20_dow6_2017: 2812.00\n",
      "mean_20_dow0_2017: 2808.00\n",
      "mean_70: 2664.00\n",
      "mean_21: 2451.00\n",
      "mean_35: 2418.00\n",
      "mean_28: 2104.00\n",
      "mean_140: 2023.00\n",
      "days_since_last_salary: 1654.00\n",
      "promo_140_sum: 1340.00\n",
      "promo_70_sum: 784.00\n",
      "holiday_28_sum: 547.00\n",
      "holiday_35_sum: 547.00\n",
      "holiday_70_sum: 436.00\n",
      "holiday_21_sum: 345.00\n",
      "promo_35_sum: 342.00\n",
      "promo_28_sum: 221.00\n",
      "promo_0: 200.00\n",
      "store_type: 195.00\n",
      "promo_21_sum: 187.00\n",
      "holiday_14_sum: 160.00\n",
      "promo_14_sum: 137.00\n",
      "holiday_140_sum: 111.00\n",
      "promo_7: 111.00\n",
      "promo_7_sum: 100.00\n",
      "item_perishable: 63.00\n",
      "promo_9: 54.00\n",
      "promo_14: 42.00\n",
      "promo_3_sum: 37.00\n",
      "promo_2: 36.00\n",
      "promo_15: 30.00\n",
      "promo_13: 28.00\n",
      "promo_11: 26.00\n",
      "promo_3: 23.00\n",
      "promo_8: 22.00\n",
      "promo_4: 19.00\n",
      "promo_10: 18.00\n",
      "promo_1: 13.00\n",
      "promo_6: 11.00\n",
      "promo_12: 11.00\n",
      "holiday_7_sum: 5.00\n",
      "promo_5: 5.00\n",
      "holiday_3_sum: 0.00\n",
      "holiday_0: 0.00\n",
      "holiday_1: 0.00\n",
      "holiday_2: 0.00\n",
      "holiday_3: 0.00\n",
      "holiday_4: 0.00\n",
      "holiday_5: 0.00\n",
      "holiday_6: 0.00\n",
      "holiday_7: 0.00\n",
      "holiday_8: 0.00\n",
      "holiday_9: 0.00\n",
      "holiday_10: 0.00\n",
      "holiday_11: 0.00\n",
      "holiday_12: 0.00\n",
      "holiday_13: 0.00\n",
      "holiday_14: 0.00\n",
      "holiday_15: 0.00\n"
     ]
    }
   ],
   "source": [
    "print(\"\\n\".join((\"%s: %.2f\" % x) for x in sorted(\n",
    "    zip(X_train.columns, gbm.best_estimator_.feature_importances_),\n",
    "    key=lambda x: x[1], reverse=True)\n",
    "))"
   ]
  },
  {
   "cell_type": "code",
   "execution_count": 30,
   "metadata": {
    "collapsed": false
   },
   "outputs": [
    {
     "data": {
      "text/plain": [
       "array([ 111,  160,  345,  547,  547,    0,  436,    5, 2915, 2023, 2451,\n",
       "       2104, 3349, 2418, 3566, 2664, 1340,  137,  187,  221,  342,   37,\n",
       "        784,  100, 3097, 2808, 2827, 2923, 2858, 2942, 3285, 2960, 3029,\n",
       "       3092, 3302, 3013, 3015, 2812,  200,    0,   13,    0,   36,    0,\n",
       "         23,    0,   19,    0,    5,    0,   11,    0,  111,    0,   22,\n",
       "          0,   54,    0,   18,    0,   26,    0,   11,    0,   28,    0,\n",
       "         42,    0,   30,    0,  195, 2934,   63, 3571, 1654])"
      ]
     },
     "execution_count": 30,
     "metadata": {},
     "output_type": "execute_result"
    }
   ],
   "source": [
    "gbm.best_estimator_.feature_importances_"
   ]
  }
 ],
 "metadata": {
  "kernelspec": {
   "display_name": "Python 3",
   "language": "python",
   "name": "python3"
  },
  "language_info": {
   "codemirror_mode": {
    "name": "ipython",
    "version": 3
   },
   "file_extension": ".py",
   "mimetype": "text/x-python",
   "name": "python",
   "nbconvert_exporter": "python",
   "pygments_lexer": "ipython3",
   "version": "3.5.2"
  }
 },
 "nbformat": 4,
 "nbformat_minor": 2
}
